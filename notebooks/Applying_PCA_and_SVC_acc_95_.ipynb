{
  "nbformat": 4,
  "nbformat_minor": 0,
  "metadata": {
    "colab": {
      "name": "Applying PCA and SVC // acc 95  .ipynb",
      "provenance": [],
      "collapsed_sections": [],
      "private_outputs": true
    },
    "kernelspec": {
      "name": "python3",
      "display_name": "Python 3"
    },
    "language_info": {
      "name": "python"
    }
  },
  "cells": [
    {
      "cell_type": "code",
      "execution_count": null,
      "metadata": {
        "id": "3TJMSkICWa_T"
      },
      "outputs": [],
      "source": [
        "# for basic mathematics operation \n",
        "import numpy as np\n",
        "import pandas as pd\n",
        "from pandas import plotting\n",
        "from sklearn.metrics import confusion_matrix\n",
        "# for visualizations\n",
        "import matplotlib.pyplot as plt\n",
        "import seaborn as sns \n",
        "# for path\n",
        "\n",
        "import os\n",
        "# for trainig models \n",
        "from scipy.sparse.construct import random\n",
        "from sklearn.tree import DecisionTreeClassifier\n",
        "\n",
        "from sklearn.ensemble import ExtraTreesClassifier  \n",
        "from sklearn.ensemble import RandomForestClassifier \n",
        "from sklearn.ensemble import HistGradientBoostingClassifier\n",
        "\n",
        "from sklearn.ensemble import GradientBoostingClassifier \n",
        "from sklearn.ensemble import BaggingClassifier\n",
        "\n",
        "\n",
        "from sklearn.neighbors import KNeighborsClassifier \n",
        "from sklearn.ensemble import ExtraTreesClassifier \n",
        "from sklearn.ensemble import AdaBoostClassifier\n",
        "\n",
        "from sklearn import svm\n",
        "from sklearn.metrics import classification_report, accuracy_score\n",
        "\n",
        "from sklearn.model_selection import GridSearchCV\n"
      ]
    },
    {
      "cell_type": "markdown",
      "source": [
        "# Exploring and Reading Data "
      ],
      "metadata": {
        "id": "jNVg032Vns_C"
      }
    },
    {
      "cell_type": "code",
      "source": [
        "import copy\n",
        "data = pd.read_csv(\"/content/sample_data/train.csv\")\n",
        "datta=data.copy()"
      ],
      "metadata": {
        "id": "KrXA6FSsYVtS"
      },
      "execution_count": null,
      "outputs": []
    },
    {
      "cell_type": "code",
      "source": [
        "test=pd.read_csv(\"/content/sample_data/test.csv\")\n",
        "datta.shape"
      ],
      "metadata": {
        "id": "n0_DTnsniGlQ"
      },
      "execution_count": null,
      "outputs": []
    },
    {
      "cell_type": "code",
      "source": [
        "data.head()"
      ],
      "metadata": {
        "id": "wuGV5Ea7YaOr"
      },
      "execution_count": null,
      "outputs": []
    },
    {
      "cell_type": "code",
      "source": [
        "data.info()"
      ],
      "metadata": {
        "id": "N_fRLo-biHiv"
      },
      "execution_count": null,
      "outputs": []
    },
    {
      "cell_type": "code",
      "source": [
        "data.shape"
      ],
      "metadata": {
        "id": "Qn2VgrtgiNNA"
      },
      "execution_count": null,
      "outputs": []
    },
    {
      "cell_type": "code",
      "source": [
        "X_data =  data.drop('y' , axis=1)\n",
        "y_data = data[\"y\"]"
      ],
      "metadata": {
        "id": "fUrxWZtreSxp"
      },
      "execution_count": null,
      "outputs": []
    },
    {
      "cell_type": "code",
      "source": [
        "data['y'].value_counts()\n"
      ],
      "metadata": {
        "id": "MJrYJf-8pcaz"
      },
      "execution_count": null,
      "outputs": []
    },
    {
      "cell_type": "code",
      "source": [
        "g = sns.countplot(data['y'])\n",
        "plt.show()"
      ],
      "metadata": {
        "id": "V5Trlj9vdnx7"
      },
      "execution_count": null,
      "outputs": []
    },
    {
      "cell_type": "code",
      "source": [
        ""
      ],
      "metadata": {
        "id": "-4ZoShXupeFD"
      },
      "execution_count": null,
      "outputs": []
    },
    {
      "cell_type": "code",
      "source": [
        "corr_matrix = data.corr()\n",
        "\n",
        "plt.figure(figsize=(15,15))\n",
        "plt.title('Correlation Heatmap of Beans Dataset')\n",
        "a = sns.heatmap(corr_matrix, square=True, annot=True, fmt='.2f', linecolor='black')\n",
        "a.set_xticklabels(a.get_xticklabels(), rotation=30)\n",
        "a.set_yticklabels(a.get_yticklabels(), rotation=30)\n",
        "plt.show()"
      ],
      "metadata": {
        "id": "PM91GObUYbke"
      },
      "execution_count": null,
      "outputs": []
    },
    {
      "cell_type": "markdown",
      "source": [
        "# Scaling Data"
      ],
      "metadata": {
        "id": "21NBEsSIn4QX"
      }
    },
    {
      "cell_type": "code",
      "source": [
        "# from sklearn.preprocessing import MinMaxScaler\n",
        "from sklearn.preprocessing import StandardScaler\n",
        "\n",
        "scaler = StandardScaler()\n",
        "df_scaled = scaler.fit_transform(data.drop(columns = ['ID','y']))\n",
        "df_scaled = pd.DataFrame(df_scaled , columns= data.columns.difference(['ID','y']))\n",
        "df_scaled.describe().T"
      ],
      "metadata": {
        "id": "kg0XQioMiSaw"
      },
      "execution_count": null,
      "outputs": []
    },
    {
      "cell_type": "code",
      "source": [
        "df_scaled.shape"
      ],
      "metadata": {
        "id": "3MgDHLZwy7ee"
      },
      "execution_count": null,
      "outputs": []
    },
    {
      "cell_type": "markdown",
      "source": [
        "# Applying PCA with 8 Components "
      ],
      "metadata": {
        "id": "31xWLTKEn9PX"
      }
    },
    {
      "cell_type": "code",
      "source": [
        "from sklearn.decomposition import PCA\n",
        "\n",
        "pca_1 = PCA(n_components=8 , random_state=2)\n",
        "pca1 = pca_1.fit_transform(df_scaled)\n",
        "pca1 = pd.DataFrame(pca1)\n"
      ],
      "metadata": {
        "id": "hyUjwlJZrexV"
      },
      "execution_count": null,
      "outputs": []
    },
    {
      "cell_type": "code",
      "source": [
        "pca1.head()"
      ],
      "metadata": {
        "id": "ytlWJF7MsJLV"
      },
      "execution_count": null,
      "outputs": []
    },
    {
      "cell_type": "markdown",
      "source": [
        "# Splitting Data"
      ],
      "metadata": {
        "id": "OYMPBlBjoJb1"
      }
    },
    {
      "cell_type": "code",
      "source": [
        "from sklearn.model_selection import cross_val_score,train_test_split\n",
        "\n",
        "X_train ,   X_val  , y_train , y_val = train_test_split(pca1 , data[\"y\"], test_size=0.05, random_state=42 )\n",
        "#  stratify=data[\"y\"], shuffle=True\n",
        "\n",
        "print(X_train.shape,X_val.shape,y_train.shape,y_val.shape)"
      ],
      "metadata": {
        "id": "7wF5-Kp2hlVI"
      },
      "execution_count": null,
      "outputs": []
    },
    {
      "cell_type": "code",
      "source": [
        "X_train.head()"
      ],
      "metadata": {
        "id": "bLA6HGSIT-nI"
      },
      "execution_count": null,
      "outputs": []
    },
    {
      "cell_type": "code",
      "source": [
        "y_train.head()"
      ],
      "metadata": {
        "id": "hbi7vXQDUaO7"
      },
      "execution_count": null,
      "outputs": []
    },
    {
      "cell_type": "markdown",
      "source": [
        "# Testing data prepare "
      ],
      "metadata": {
        "id": "xq91VFmO0Y5K"
      }
    },
    {
      "cell_type": "code",
      "source": [
        "testingdata=pd.read_csv(\"/content/sample_data/test.csv\")\n",
        "X_test_scaled = scaler.fit_transform(testingdata.drop(columns = ['ID']))\n",
        "X_test_scaled = pd.DataFrame(X_test_scaled , columns= testingdata.columns.difference(['ID']))\n"
      ],
      "metadata": {
        "id": "rFtZqhpGqkch"
      },
      "execution_count": null,
      "outputs": []
    },
    {
      "cell_type": "code",
      "source": [
        "X_test_scaled.shape"
      ],
      "metadata": {
        "id": "9JxvWiNJzhYA"
      },
      "execution_count": null,
      "outputs": []
    },
    {
      "cell_type": "code",
      "source": [
        "# Predicting y of Test data\n",
        "\n",
        "# Step 1 - applying scalling\n",
        "X_test_scaled = scaler.fit_transform(testingdata.drop(columns = ['ID']))\n",
        "X_test_scaled = pd.DataFrame(X_test_scaled , columns= testingdata.columns.difference(['ID']))\n",
        "\n",
        "from sklearn.decomposition import PCA\n",
        "\n",
        "pca_1 = PCA(n_components=8)\n",
        "\n",
        "pcatest = pca_1.fit_transform(X_test_scaled)\n",
        "pcatest = pd.DataFrame(pcatest)\n",
        "\n",
        "\n",
        "\n"
      ],
      "metadata": {
        "id": "9bwKVN68Wwfh"
      },
      "execution_count": null,
      "outputs": []
    },
    {
      "cell_type": "code",
      "source": [
        "pcatest.shape"
      ],
      "metadata": {
        "id": "KIIzPJHnljMV"
      },
      "execution_count": null,
      "outputs": []
    },
    {
      "cell_type": "markdown",
      "source": [
        "# DecisionTreeClassifier"
      ],
      "metadata": {
        "id": "gEEsaIRio4CZ"
      }
    },
    {
      "cell_type": "code",
      "source": [
        "\n",
        "\n",
        "\n",
        "# Create an instance of the classifier\n",
        "decisiontree =DecisionTreeClassifier(random_state=42).fit(X_train, y_train)\n",
        "\n",
        "y_pred3 = decisiontree.predict(X_val)\n",
        "\n",
        "from sklearn.metrics import accuracy_score\n",
        "\n",
        "accuracy = accuracy_score(y_val, y_pred3)\n",
        "\n",
        "print ( 'Accuracy = ', accuracy)\n"
      ],
      "metadata": {
        "id": "G45eBqW1tGNR"
      },
      "execution_count": null,
      "outputs": []
    },
    {
      "cell_type": "markdown",
      "source": [
        "# RandomForestClassifier"
      ],
      "metadata": {
        "id": "5Gh1wMSGp0Te"
      }
    },
    {
      "cell_type": "markdown",
      "source": [
        "# GridSearchCV For Random Forest "
      ],
      "metadata": {
        "id": "ZGBiSWscp6VC"
      }
    },
    {
      "cell_type": "code",
      "source": [
        "rf_model=RandomForestClassifier( random_state=2)\n",
        "param_grid = { \n",
        "    'n_estimators': [120 , 160 , 200,300 ,],\n",
        "    'max_features': ['auto', 'sqrt', 'log2'],\n",
        "    'max_depth' : [20 , 30 , 40,50 ,60],\n",
        "    'criterion' :['gini', 'entropy']\n",
        "}"
      ],
      "metadata": {
        "id": "pdlQlKCYpzCi"
      },
      "execution_count": null,
      "outputs": []
    },
    {
      "cell_type": "code",
      "source": [
        "CV_rfc = GridSearchCV(estimator=rf_model, param_grid=param_grid, cv= 5)\n",
        "CV_rfc.fit(X_train, y_train)"
      ],
      "metadata": {
        "id": "LAbNR_G-qH78"
      },
      "execution_count": null,
      "outputs": []
    },
    {
      "cell_type": "code",
      "source": [
        "CV_rfc.best_params_\n"
      ],
      "metadata": {
        "id": "LT3FzCyeqbWt"
      },
      "execution_count": null,
      "outputs": []
    },
    {
      "cell_type": "code",
      "source": [
        "from sklearn.ensemble import RandomForestClassifier\n",
        "\n",
        "rf_model =RandomForestClassifier(n_estimators =120 ,criterion='entropy', max_features=  'log2', random_state=22  , max_depth=20).fit(X_train, y_train)\n",
        "# Train the classifier\n",
        "\n",
        "y_pred1 = rf_model.predict(X_val)\n",
        "\n",
        "from sklearn.metrics import accuracy_score\n",
        "\n",
        "accuracy = accuracy_score(y_val, y_pred1)\n",
        "\n",
        "print ( 'Accuracy = ', accuracy)\n"
      ],
      "metadata": {
        "id": "H19_0Ml40lmX"
      },
      "execution_count": null,
      "outputs": []
    },
    {
      "cell_type": "markdown",
      "source": [
        "# ExtraTreesClassifier"
      ],
      "metadata": {
        "id": "XfR2trFuw9Mq"
      }
    },
    {
      "cell_type": "code",
      "source": [
        "\n",
        "# Create an instance of the classifier\n",
        "# classifier = RandomForestClassifier(random_state=42)\n",
        "extra =ExtraTreesClassifier( random_state=42).fit(X_train, y_train)\n",
        "# Train the classifier\n",
        "# classifier = classifier.fit(X_train, y_train)\n",
        "y_pred1 = extra.predict(X_val)\n",
        "# 1st way to calculate Accuracy \n",
        "\n",
        "from sklearn.metrics import accuracy_score\n",
        "\n",
        "accuracy = accuracy_score(y_val, y_pred1)\n",
        "\n",
        "print ( 'Accuracy = ', accuracy)\n"
      ],
      "metadata": {
        "id": "5iIkWwqhnEt7"
      },
      "execution_count": null,
      "outputs": []
    },
    {
      "cell_type": "markdown",
      "source": [
        "# Grid Search with ExtraTreesClassifier"
      ],
      "metadata": {
        "id": "WVSV1toRw8bK"
      }
    },
    {
      "cell_type": "code",
      "source": [
        "# model = ExtraTreesClassifier(n_jobs=-1, random_state=2)\n",
        "# pipeline = Pipeline(steps=[('preprocessor', preprocessor), ('model', model)])"
      ],
      "metadata": {
        "id": "3UBM0z6pxsTO"
      },
      "execution_count": null,
      "outputs": []
    },
    {
      "cell_type": "code",
      "source": [
        "# from sklearn.model_selection import train_test_split, GridSearchCV, StratifiedKFold\n",
        "# # cv = StratifiedKFold(n_splits=3)\n",
        "# param_grid = {\n",
        "#     \"mrandom_state\":  [  2, 3, 42],\n",
        "#     \"model__n_estimators\":  [120, 150, 200],\n",
        "#     \"model__max_depth\": [25, 30, 32, 34, 3]\n",
        "# }\n",
        "# searchCV = GridSearchCV(estimator=ExtraTreesClassifier(), scoring='accuracy', param_grid=param_grid, verbose=True)\n",
        "\n",
        "# # WARNING: This could take some time to run.\n",
        "# searchCV.fit(X_train, y_train)\n",
        "\n",
        "# print('Best index:', searchCV.best_index_)\n",
        "# print('Best score:', searchCV.best_score_)\n",
        "# print('Best params:', searchCV.best_params_)"
      ],
      "metadata": {
        "id": "3MSnSGQpx-G0"
      },
      "execution_count": null,
      "outputs": []
    },
    {
      "cell_type": "markdown",
      "source": [
        "# GradientBoostingClassifier"
      ],
      "metadata": {
        "id": "rB2FuLJ8zAeL"
      }
    },
    {
      "cell_type": "code",
      "source": [
        "\n",
        "\n",
        "from sklearn.ensemble import GradientBoostingClassifier\n",
        "\n",
        "gb_model = GradientBoostingClassifier(n_estimators=150, learning_rate=.18 ,   max_depth=22)\n",
        "gb_model.fit(X_train, y_train)\n",
        "\n",
        "\n",
        "pred5 = gb_model.predict(X_val)\n",
        "\n",
        "print(\"\\n GradientBoostingClassifier Train set Accuracy: \", accuracy_score(y_train, gb_model.predict(X_train)))\n",
        "print(\"\\n GradientBoostingClassifier Test set Accuracy: \", accuracy_score(y_val, pred5))\n",
        "\n",
        "print(\"\\nclassification_report metric :\")\n",
        "print(classification_report(y_val,pred5)) \n"
      ],
      "metadata": {
        "id": "joRJ1NpzaO2b"
      },
      "execution_count": null,
      "outputs": []
    },
    {
      "cell_type": "markdown",
      "source": [
        "# LGBMClassifier"
      ],
      "metadata": {
        "id": "2Ry1eE9mzIHw"
      }
    },
    {
      "cell_type": "code",
      "source": [
        "\n",
        "from lightgbm import LGBMClassifier\n",
        "\n",
        "LGBM = LGBMClassifier(learning_rate=0.19,max_depth=4,n_estimators=60,reg_lambda=0.25,num_leaves = 46,class_weight ='balanced').fit(X_train,y_train)\n",
        "pred7 = LGBM.predict(X_val)\n",
        "\n",
        "print(\"\\n LGBMClassifier Train set Accuracy: \", accuracy_score(y_train, LGBM.predict(X_train)))\n",
        "print(\"\\n LGBMClassifier Test set Accuracy: \", accuracy_score(y_val, pred7))\n",
        "# learning_rate=0.19,max_depth=6,n_estimators=120,reg_lambda=0.25 0.9659281638133602\n",
        "# reg_alpha=0.01,reg_lambda=0.01\n",
        "print(\"\\nclassification_report metric :\")\n",
        "print(classification_report(y_val,pred7)) \n"
      ],
      "metadata": {
        "id": "ZkGYe10NYTRd"
      },
      "execution_count": null,
      "outputs": []
    },
    {
      "cell_type": "code",
      "source": [
        "# SVM "
      ],
      "metadata": {
        "id": "c3x5kcctEp4I"
      },
      "execution_count": null,
      "outputs": []
    },
    {
      "cell_type": "markdown",
      "source": [
        "# SVC"
      ],
      "metadata": {
        "id": "hk9e56f_zLp5"
      }
    },
    {
      "cell_type": "code",
      "source": [
        "from sklearn.svm import SVC\n",
        "svc = SVC(C=10, gamma=0.1, kernel='rbf', degree=6, random_state=2).fit(X_train,y_train)\n",
        "# svc=SVC()\n",
        "pred8 = svc.predict(X_val)\n",
        "\n",
        "print(\"\\n SVC Train set Accuracy: \", accuracy_score(y_train, svc.predict(X_train)))\n",
        "print(\"\\n SVC Test set Accuracy: \", accuracy_score(y_val, pred8))\n",
        "\n",
        "print(\"\\nclassification_report metric :\")\n",
        "print(classification_report(y_val,pred8)) \n",
        "\n",
        "# 0.9597637504614249\n",
        "# 0.9597637504614249"
      ],
      "metadata": {
        "id": "_HO96_5AEsBJ"
      },
      "execution_count": null,
      "outputs": []
    },
    {
      "cell_type": "markdown",
      "source": [
        "#GRID Search "
      ],
      "metadata": {
        "id": "r0bh5z_JTTg8"
      }
    },
    {
      "cell_type": "code",
      "source": [
        "# kernels = ['Polynomial', 'RBF', 'Sigmoid','Linear']#A function which returns the corresponding SVC model\n",
        "# def getClassifier(ktype):\n",
        "#     if ktype == 0:\n",
        "#         # Polynomial kernal\n",
        "#         return SVC(kernel='poly', degree=6, gamma=\"auto\")\n",
        "#     elif ktype == 1:\n",
        "#         # Radial Basis Function kernal\n",
        "#         return SVC(kernel='rbf',degree=6, gamma=\"auto\")\n",
        "#     elif ktype == 2:\n",
        "#         # Sigmoid kernal\n",
        "#         return SVC(kernel='sigmoid', degree=6, gamma=\"auto\")\n",
        "#     elif ktype == 3:\n",
        "#         # Linear kernal\n",
        "#         return SVC(kernel='linear' ,degree=6, gamma=\"auto\")\n",
        "\n"
      ],
      "metadata": {
        "id": "-3NKAq2RTSzO"
      },
      "execution_count": null,
      "outputs": []
    },
    {
      "cell_type": "code",
      "source": [
        "# for i in range(4):\n",
        "#     # Separate data into test and training sets\n",
        "#     svclassifier = getClassifier(i) \n",
        "#     svclassifier.fit(X_train, y_train)# Make prediction\n",
        "#     y_pred = svclassifier.predict(X_val)# Evaluate our model\n",
        "#     print(\"Evaluation:\", kernels[i], \"kernel\")\n",
        "#     print(classification_report(y_val,y_pred))\n",
        "\n",
        "\n",
        "# from sklearn.model_selection import GridSearchCV\n",
        "\n",
        "# param_grid = {'C': [0.1,1,2,3,4,5,6, 10, 11], 'gamma': [1,0.1,0.2,0.23,0.01,0.001],'kernel': ['rbf', 'poly', 'sigmoid']}\n",
        "\n",
        "# grid = GridSearchCV(SVC(),param_grid,refit=True,verbose=2)\n",
        "# grid.fit(X_train,y_train)\n",
        "\n",
        "# print(grid.best_estimator_)"
      ],
      "metadata": {
        "id": "9gqCAGKXX-rs"
      },
      "execution_count": null,
      "outputs": []
    },
    {
      "cell_type": "code",
      "source": [
        "print(grid.best_estimator_)"
      ],
      "metadata": {
        "id": "5znkeln0xJLa"
      },
      "execution_count": null,
      "outputs": []
    },
    {
      "cell_type": "markdown",
      "source": [
        "# PREDECTION "
      ],
      "metadata": {
        "id": "pSFGFlhg_6jm"
      }
    },
    {
      "cell_type": "code",
      "source": [
        "y_test_predicted = svc.predict(pcatest)\n",
        "\n",
        "# add y column to the test data\n",
        "testingdata['y'] = y_test_predicted\n",
        "\n",
        "testingdata.head()"
      ],
      "metadata": {
        "id": "bP64d4Yplgg_"
      },
      "execution_count": null,
      "outputs": []
    },
    {
      "cell_type": "code",
      "source": [
        "testingdata[['ID','y']].to_csv('rf_model 8 pca.csv', index=False)\n",
        "testingdata['y']"
      ],
      "metadata": {
        "id": "M15vZfE3qwLI"
      },
      "execution_count": null,
      "outputs": []
    },
    {
      "cell_type": "code",
      "source": [
        "df_reference = pd.read_csv(\"/content/other's result as reference(1).csv\")"
      ],
      "metadata": {
        "id": "3Nz4xxaTc3kC"
      },
      "execution_count": null,
      "outputs": []
    },
    {
      "cell_type": "code",
      "source": [
        "df_our_work = pd.read_csv(\"/content/rf_model 8 pca.csv\")"
      ],
      "metadata": {
        "id": "HgnQ7aLGbfhp"
      },
      "execution_count": null,
      "outputs": []
    },
    {
      "cell_type": "code",
      "source": [
        "df_reference.sample"
      ],
      "metadata": {
        "id": "KsBMtlJUcovh"
      },
      "execution_count": null,
      "outputs": []
    },
    {
      "cell_type": "code",
      "source": [
        "result = np.sum(df_reference.y == df_our_work.y )/ df_reference.shape[0]"
      ],
      "metadata": {
        "id": "ZPmfjvdBbEIY"
      },
      "execution_count": null,
      "outputs": []
    },
    {
      "cell_type": "code",
      "source": [
        "result"
      ],
      "metadata": {
        "id": "soz-7sMkdKWK"
      },
      "execution_count": null,
      "outputs": []
    },
    {
      "cell_type": "code",
      "source": [
        ""
      ],
      "metadata": {
        "id": "G0__Yj6rdLvH"
      },
      "execution_count": null,
      "outputs": []
    }
  ]
}