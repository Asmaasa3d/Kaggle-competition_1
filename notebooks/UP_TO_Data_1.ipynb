{
  "nbformat": 4,
  "nbformat_minor": 0,
  "metadata": {
    "colab": {
      "name": "UP_TO_Data_1.ipynb",
      "provenance": [],
      "collapsed_sections": []
    },
    "kernelspec": {
      "name": "python3",
      "display_name": "Python 3"
    },
    "language_info": {
      "name": "python"
    }
  },
  "cells": [
    {
      "cell_type": "code",
      "execution_count": 42,
      "metadata": {
        "id": "3GFLARBRFhCP"
      },
      "outputs": [],
      "source": [
        "import numpy as np \n",
        "import pandas as pd \n",
        "import seaborn as sns\n",
        "import matplotlib.pyplot as plt\n",
        "from lightgbm import LGBMClassifier\n",
        "from sklearn.metrics import f1_score\n",
        "from sklearn.preprocessing import PowerTransformer\n",
        "from imblearn.over_sampling import RandomOverSampler\n",
        "from sklearn.model_selection import cross_val_score\n",
        "from sklearn.metrics import accuracy_score\n",
        "from sklearn.decomposition import PCA\n",
        "from sklearn.model_selection import train_test_split\n",
        "from sklearn.preprocessing import StandardScaler\n",
        "from sklearn.metrics import confusion_matrix\n",
        "from imblearn.over_sampling import SMOTE \n",
        "from sklearn.model_selection import RandomizedSearchCV\n",
        "from sklearn.ensemble import RandomForestClassifier"
      ]
    },
    {
      "cell_type": "code",
      "source": [
        "\n",
        "\n",
        "# dataset_path = '/kaggle/input/dry-beans-classification-iti-ai-pro-intake0/'\n",
        "# df = pd.read_csv(os.path.join(dataset_path, 'train.csv'))\n",
        "data =pd.read_csv('/content/sample_data/train.csv')\n",
        "classes=(data.groupby('y').count()).index.tolist()"
      ],
      "metadata": {
        "id": "AzgOxJ9aHJGT"
      },
      "execution_count": 126,
      "outputs": []
    },
    {
      "cell_type": "code",
      "source": [
        "classes"
      ],
      "metadata": {
        "colab": {
          "base_uri": "https://localhost:8080/"
        },
        "id": "78prT2m_HWpM",
        "outputId": "dedc11c4-8535-4a07-ff59-9e4cd6ef3acf"
      },
      "execution_count": 44,
      "outputs": [
        {
          "output_type": "execute_result",
          "data": {
            "text/plain": [
              "['BARBUNYA', 'BOMBAY', 'CALI', 'DERMASON', 'HOROZ', 'SEKER', 'SIRA']"
            ]
          },
          "metadata": {},
          "execution_count": 44
        }
      ]
    },
    {
      "cell_type": "code",
      "source": [
        "data.head()"
      ],
      "metadata": {
        "colab": {
          "base_uri": "https://localhost:8080/",
          "height": 270
        },
        "id": "Q1C91gA3JwMk",
        "outputId": "9d4dd374-2c67-461b-aa3a-007bea08b276"
      },
      "execution_count": 45,
      "outputs": [
        {
          "output_type": "execute_result",
          "data": {
            "text/plain": [
              "   ID   Area  Perimeter  MajorAxisLength  MinorAxisLength  AspectRation  \\\n",
              "0   0  58238    971.303       397.202654       186.945510      2.124697   \n",
              "1   1  44515    757.601       265.590470       213.967453      1.241266   \n",
              "2   2  31662    653.783       239.902428       168.421505      1.424417   \n",
              "3   3  38778    734.020       268.446281       184.061923      1.458456   \n",
              "4   4  42530    775.403       281.212824       193.236878      1.455275   \n",
              "\n",
              "   Eccentricity  ConvexArea  EquivDiameter    Extent  Solidity  roundness  \\\n",
              "0      0.882317       58977     272.306674  0.604756  0.987470   0.775723   \n",
              "1      0.592420       44780     238.071960  0.771745  0.994082   0.974620   \n",
              "2      0.712136       32034     200.781748  0.801407  0.988387   0.930853   \n",
              "3      0.727925       39208     222.201897  0.766137  0.989033   0.904439   \n",
              "4      0.726511       43028     232.703412  0.729816  0.988426   0.888895   \n",
              "\n",
              "   Compactness  ShapeFactor1  ShapeFactor2  ShapeFactor3  ShapeFactor4  \\\n",
              "0     0.685561      0.006820      0.000929      0.469994      0.998595   \n",
              "1     0.896387      0.005966      0.002376      0.803510      0.997370   \n",
              "2     0.836931      0.007577      0.002293      0.700453      0.997737   \n",
              "3     0.827733      0.006923      0.002005      0.685142      0.999250   \n",
              "4     0.827499      0.006612      0.001912      0.684755      0.996507   \n",
              "\n",
              "          y  \n",
              "0     HOROZ  \n",
              "1     SEKER  \n",
              "2  DERMASON  \n",
              "3  DERMASON  \n",
              "4      SIRA  "
            ],
            "text/html": [
              "\n",
              "  <div id=\"df-4fa16f0c-a5e7-40fd-b402-0ddd87fe98cc\">\n",
              "    <div class=\"colab-df-container\">\n",
              "      <div>\n",
              "<style scoped>\n",
              "    .dataframe tbody tr th:only-of-type {\n",
              "        vertical-align: middle;\n",
              "    }\n",
              "\n",
              "    .dataframe tbody tr th {\n",
              "        vertical-align: top;\n",
              "    }\n",
              "\n",
              "    .dataframe thead th {\n",
              "        text-align: right;\n",
              "    }\n",
              "</style>\n",
              "<table border=\"1\" class=\"dataframe\">\n",
              "  <thead>\n",
              "    <tr style=\"text-align: right;\">\n",
              "      <th></th>\n",
              "      <th>ID</th>\n",
              "      <th>Area</th>\n",
              "      <th>Perimeter</th>\n",
              "      <th>MajorAxisLength</th>\n",
              "      <th>MinorAxisLength</th>\n",
              "      <th>AspectRation</th>\n",
              "      <th>Eccentricity</th>\n",
              "      <th>ConvexArea</th>\n",
              "      <th>EquivDiameter</th>\n",
              "      <th>Extent</th>\n",
              "      <th>Solidity</th>\n",
              "      <th>roundness</th>\n",
              "      <th>Compactness</th>\n",
              "      <th>ShapeFactor1</th>\n",
              "      <th>ShapeFactor2</th>\n",
              "      <th>ShapeFactor3</th>\n",
              "      <th>ShapeFactor4</th>\n",
              "      <th>y</th>\n",
              "    </tr>\n",
              "  </thead>\n",
              "  <tbody>\n",
              "    <tr>\n",
              "      <th>0</th>\n",
              "      <td>0</td>\n",
              "      <td>58238</td>\n",
              "      <td>971.303</td>\n",
              "      <td>397.202654</td>\n",
              "      <td>186.945510</td>\n",
              "      <td>2.124697</td>\n",
              "      <td>0.882317</td>\n",
              "      <td>58977</td>\n",
              "      <td>272.306674</td>\n",
              "      <td>0.604756</td>\n",
              "      <td>0.987470</td>\n",
              "      <td>0.775723</td>\n",
              "      <td>0.685561</td>\n",
              "      <td>0.006820</td>\n",
              "      <td>0.000929</td>\n",
              "      <td>0.469994</td>\n",
              "      <td>0.998595</td>\n",
              "      <td>HOROZ</td>\n",
              "    </tr>\n",
              "    <tr>\n",
              "      <th>1</th>\n",
              "      <td>1</td>\n",
              "      <td>44515</td>\n",
              "      <td>757.601</td>\n",
              "      <td>265.590470</td>\n",
              "      <td>213.967453</td>\n",
              "      <td>1.241266</td>\n",
              "      <td>0.592420</td>\n",
              "      <td>44780</td>\n",
              "      <td>238.071960</td>\n",
              "      <td>0.771745</td>\n",
              "      <td>0.994082</td>\n",
              "      <td>0.974620</td>\n",
              "      <td>0.896387</td>\n",
              "      <td>0.005966</td>\n",
              "      <td>0.002376</td>\n",
              "      <td>0.803510</td>\n",
              "      <td>0.997370</td>\n",
              "      <td>SEKER</td>\n",
              "    </tr>\n",
              "    <tr>\n",
              "      <th>2</th>\n",
              "      <td>2</td>\n",
              "      <td>31662</td>\n",
              "      <td>653.783</td>\n",
              "      <td>239.902428</td>\n",
              "      <td>168.421505</td>\n",
              "      <td>1.424417</td>\n",
              "      <td>0.712136</td>\n",
              "      <td>32034</td>\n",
              "      <td>200.781748</td>\n",
              "      <td>0.801407</td>\n",
              "      <td>0.988387</td>\n",
              "      <td>0.930853</td>\n",
              "      <td>0.836931</td>\n",
              "      <td>0.007577</td>\n",
              "      <td>0.002293</td>\n",
              "      <td>0.700453</td>\n",
              "      <td>0.997737</td>\n",
              "      <td>DERMASON</td>\n",
              "    </tr>\n",
              "    <tr>\n",
              "      <th>3</th>\n",
              "      <td>3</td>\n",
              "      <td>38778</td>\n",
              "      <td>734.020</td>\n",
              "      <td>268.446281</td>\n",
              "      <td>184.061923</td>\n",
              "      <td>1.458456</td>\n",
              "      <td>0.727925</td>\n",
              "      <td>39208</td>\n",
              "      <td>222.201897</td>\n",
              "      <td>0.766137</td>\n",
              "      <td>0.989033</td>\n",
              "      <td>0.904439</td>\n",
              "      <td>0.827733</td>\n",
              "      <td>0.006923</td>\n",
              "      <td>0.002005</td>\n",
              "      <td>0.685142</td>\n",
              "      <td>0.999250</td>\n",
              "      <td>DERMASON</td>\n",
              "    </tr>\n",
              "    <tr>\n",
              "      <th>4</th>\n",
              "      <td>4</td>\n",
              "      <td>42530</td>\n",
              "      <td>775.403</td>\n",
              "      <td>281.212824</td>\n",
              "      <td>193.236878</td>\n",
              "      <td>1.455275</td>\n",
              "      <td>0.726511</td>\n",
              "      <td>43028</td>\n",
              "      <td>232.703412</td>\n",
              "      <td>0.729816</td>\n",
              "      <td>0.988426</td>\n",
              "      <td>0.888895</td>\n",
              "      <td>0.827499</td>\n",
              "      <td>0.006612</td>\n",
              "      <td>0.001912</td>\n",
              "      <td>0.684755</td>\n",
              "      <td>0.996507</td>\n",
              "      <td>SIRA</td>\n",
              "    </tr>\n",
              "  </tbody>\n",
              "</table>\n",
              "</div>\n",
              "      <button class=\"colab-df-convert\" onclick=\"convertToInteractive('df-4fa16f0c-a5e7-40fd-b402-0ddd87fe98cc')\"\n",
              "              title=\"Convert this dataframe to an interactive table.\"\n",
              "              style=\"display:none;\">\n",
              "        \n",
              "  <svg xmlns=\"http://www.w3.org/2000/svg\" height=\"24px\"viewBox=\"0 0 24 24\"\n",
              "       width=\"24px\">\n",
              "    <path d=\"M0 0h24v24H0V0z\" fill=\"none\"/>\n",
              "    <path d=\"M18.56 5.44l.94 2.06.94-2.06 2.06-.94-2.06-.94-.94-2.06-.94 2.06-2.06.94zm-11 1L8.5 8.5l.94-2.06 2.06-.94-2.06-.94L8.5 2.5l-.94 2.06-2.06.94zm10 10l.94 2.06.94-2.06 2.06-.94-2.06-.94-.94-2.06-.94 2.06-2.06.94z\"/><path d=\"M17.41 7.96l-1.37-1.37c-.4-.4-.92-.59-1.43-.59-.52 0-1.04.2-1.43.59L10.3 9.45l-7.72 7.72c-.78.78-.78 2.05 0 2.83L4 21.41c.39.39.9.59 1.41.59.51 0 1.02-.2 1.41-.59l7.78-7.78 2.81-2.81c.8-.78.8-2.07 0-2.86zM5.41 20L4 18.59l7.72-7.72 1.47 1.35L5.41 20z\"/>\n",
              "  </svg>\n",
              "      </button>\n",
              "      \n",
              "  <style>\n",
              "    .colab-df-container {\n",
              "      display:flex;\n",
              "      flex-wrap:wrap;\n",
              "      gap: 12px;\n",
              "    }\n",
              "\n",
              "    .colab-df-convert {\n",
              "      background-color: #E8F0FE;\n",
              "      border: none;\n",
              "      border-radius: 50%;\n",
              "      cursor: pointer;\n",
              "      display: none;\n",
              "      fill: #1967D2;\n",
              "      height: 32px;\n",
              "      padding: 0 0 0 0;\n",
              "      width: 32px;\n",
              "    }\n",
              "\n",
              "    .colab-df-convert:hover {\n",
              "      background-color: #E2EBFA;\n",
              "      box-shadow: 0px 1px 2px rgba(60, 64, 67, 0.3), 0px 1px 3px 1px rgba(60, 64, 67, 0.15);\n",
              "      fill: #174EA6;\n",
              "    }\n",
              "\n",
              "    [theme=dark] .colab-df-convert {\n",
              "      background-color: #3B4455;\n",
              "      fill: #D2E3FC;\n",
              "    }\n",
              "\n",
              "    [theme=dark] .colab-df-convert:hover {\n",
              "      background-color: #434B5C;\n",
              "      box-shadow: 0px 1px 3px 1px rgba(0, 0, 0, 0.15);\n",
              "      filter: drop-shadow(0px 1px 2px rgba(0, 0, 0, 0.3));\n",
              "      fill: #FFFFFF;\n",
              "    }\n",
              "  </style>\n",
              "\n",
              "      <script>\n",
              "        const buttonEl =\n",
              "          document.querySelector('#df-4fa16f0c-a5e7-40fd-b402-0ddd87fe98cc button.colab-df-convert');\n",
              "        buttonEl.style.display =\n",
              "          google.colab.kernel.accessAllowed ? 'block' : 'none';\n",
              "\n",
              "        async function convertToInteractive(key) {\n",
              "          const element = document.querySelector('#df-4fa16f0c-a5e7-40fd-b402-0ddd87fe98cc');\n",
              "          const dataTable =\n",
              "            await google.colab.kernel.invokeFunction('convertToInteractive',\n",
              "                                                     [key], {});\n",
              "          if (!dataTable) return;\n",
              "\n",
              "          const docLinkHtml = 'Like what you see? Visit the ' +\n",
              "            '<a target=\"_blank\" href=https://colab.research.google.com/notebooks/data_table.ipynb>data table notebook</a>'\n",
              "            + ' to learn more about interactive tables.';\n",
              "          element.innerHTML = '';\n",
              "          dataTable['output_type'] = 'display_data';\n",
              "          await google.colab.output.renderOutput(dataTable, element);\n",
              "          const docLink = document.createElement('div');\n",
              "          docLink.innerHTML = docLinkHtml;\n",
              "          element.appendChild(docLink);\n",
              "        }\n",
              "      </script>\n",
              "    </div>\n",
              "  </div>\n",
              "  "
            ]
          },
          "metadata": {},
          "execution_count": 45
        }
      ]
    },
    {
      "cell_type": "code",
      "source": [
        "data.info()"
      ],
      "metadata": {
        "colab": {
          "base_uri": "https://localhost:8080/"
        },
        "id": "4W7GE0ZOJ1FX",
        "outputId": "3801cba6-ed44-4c83-f818-5030171a8f1b"
      },
      "execution_count": 47,
      "outputs": [
        {
          "output_type": "stream",
          "name": "stdout",
          "text": [
            "<class 'pandas.core.frame.DataFrame'>\n",
            "RangeIndex: 10834 entries, 0 to 10833\n",
            "Data columns (total 18 columns):\n",
            " #   Column           Non-Null Count  Dtype  \n",
            "---  ------           --------------  -----  \n",
            " 0   ID               10834 non-null  int64  \n",
            " 1   Area             10834 non-null  int64  \n",
            " 2   Perimeter        10834 non-null  float64\n",
            " 3   MajorAxisLength  10834 non-null  float64\n",
            " 4   MinorAxisLength  10834 non-null  float64\n",
            " 5   AspectRation     10834 non-null  float64\n",
            " 6   Eccentricity     10834 non-null  float64\n",
            " 7   ConvexArea       10834 non-null  int64  \n",
            " 8   EquivDiameter    10834 non-null  float64\n",
            " 9   Extent           10834 non-null  float64\n",
            " 10  Solidity         10834 non-null  float64\n",
            " 11  roundness        10834 non-null  float64\n",
            " 12  Compactness      10834 non-null  float64\n",
            " 13  ShapeFactor1     10834 non-null  float64\n",
            " 14  ShapeFactor2     10834 non-null  float64\n",
            " 15  ShapeFactor3     10834 non-null  float64\n",
            " 16  ShapeFactor4     10834 non-null  float64\n",
            " 17  y                10834 non-null  object \n",
            "dtypes: float64(14), int64(3), object(1)\n",
            "memory usage: 1.5+ MB\n"
          ]
        }
      ]
    },
    {
      "cell_type": "markdown",
      "source": [
        "no null values "
      ],
      "metadata": {
        "id": "le7Tbv_eJ4zI"
      }
    },
    {
      "cell_type": "markdown",
      "source": [
        ""
      ],
      "metadata": {
        "id": "ntnzC0SfKDmP"
      }
    },
    {
      "cell_type": "markdown",
      "source": [
        "# Check the data is balanced or not ? \n"
      ],
      "metadata": {
        "id": "ghDdQ-bmKDyA"
      }
    },
    {
      "cell_type": "markdown",
      "source": [
        "**[recommend this article to understand data balance ](https://www.analyticsvidhya.com/blog/2020/07/10-techniques-to-deal-with-class-imbalance-in-machine-learning/)**"
      ],
      "metadata": {
        "id": "3lxVTutSKiuF"
      }
    },
    {
      "cell_type": "code",
      "source": [
        "data['y'].value_counts()"
      ],
      "metadata": {
        "colab": {
          "base_uri": "https://localhost:8080/"
        },
        "id": "Uy7J1RY2HYSl",
        "outputId": "7fb6725d-cea9-4cad-e8a3-45ddd9b7b744"
      },
      "execution_count": 48,
      "outputs": [
        {
          "output_type": "execute_result",
          "data": {
            "text/plain": [
              "DERMASON    2837\n",
              "SIRA        2109\n",
              "SEKER       1621\n",
              "HOROZ       1488\n",
              "CALI        1304\n",
              "BARBUNYA    1057\n",
              "BOMBAY       418\n",
              "Name: y, dtype: int64"
            ]
          },
          "metadata": {},
          "execution_count": 48
        }
      ]
    },
    {
      "cell_type": "code",
      "source": [
        "g = sns.countplot(data['y'])\n",
        "plt.show()"
      ],
      "metadata": {
        "colab": {
          "base_uri": "https://localhost:8080/",
          "height": 335
        },
        "id": "hgjyV6EXJI3r",
        "outputId": "2c6c650a-f3a1-4fdb-f414-1cd1c4e64f18"
      },
      "execution_count": 49,
      "outputs": [
        {
          "output_type": "stream",
          "name": "stderr",
          "text": [
            "/usr/local/lib/python3.7/dist-packages/seaborn/_decorators.py:43: FutureWarning: Pass the following variable as a keyword arg: x. From version 0.12, the only valid positional argument will be `data`, and passing other arguments without an explicit keyword will result in an error or misinterpretation.\n",
            "  FutureWarning\n"
          ]
        },
        {
          "output_type": "display_data",
          "data": {
            "text/plain": [
              "<Figure size 432x288 with 1 Axes>"
            ],
            "image/png": "[encoded data removed]"
          },
          "metadata": {
            "needs_background": "light"
          }
        }
      ]
    },
    {
      "cell_type": "markdown",
      "source": [
        "## we can see that there is a  difference between the  classes in the data set data set."
      ],
      "metadata": {
        "id": "OV21cy3XJkR0"
      }
    },
    {
      "cell_type": "code",
      "source": [
        "X_data =  data.drop('y' , axis=1)\n",
        "y_data = data[\"y\"]"
      ],
      "metadata": {
        "id": "NMoAio8RNvr1"
      },
      "execution_count": 50,
      "outputs": []
    },
    {
      "cell_type": "code",
      "source": [
        "# import library\n",
        "from imblearn.over_sampling import RandomOverSampler\n",
        "ros = RandomOverSampler(random_state=0)\n",
        "X_resampled, y_resampled = ros.fit_resample(X_data, y_data)\n",
        "from collections import Counter\n",
        "print(sorted(Counter(y_resampled).items()))"
      ],
      "metadata": {
        "colab": {
          "base_uri": "https://localhost:8080/"
        },
        "id": "ARBOhF_mJjPN",
        "outputId": "47a6b297-119e-4c9f-fea0-25051cf79434"
      },
      "execution_count": 51,
      "outputs": [
        {
          "output_type": "stream",
          "name": "stdout",
          "text": [
            "[('BARBUNYA', 2837), ('BOMBAY', 2837), ('CALI', 2837), ('DERMASON', 2837), ('HOROZ', 2837), ('SEKER', 2837), ('SIRA', 2837)]\n"
          ]
        }
      ]
    },
    {
      "cell_type": "code",
      "source": [
        "y_resampled=pd.DataFrame(y_resampled)\n",
        "y_resampled.head()"
      ],
      "metadata": {
        "colab": {
          "base_uri": "https://localhost:8080/",
          "height": 206
        },
        "id": "uvH_5fmcPyco",
        "outputId": "08fe08ba-fcaa-4af4-ecba-c52b6ea6560f"
      },
      "execution_count": 52,
      "outputs": [
        {
          "output_type": "execute_result",
          "data": {
            "text/plain": [
              "          y\n",
              "0     HOROZ\n",
              "1     SEKER\n",
              "2  DERMASON\n",
              "3  DERMASON\n",
              "4      SIRA"
            ],
            "text/html": [
              "\n",
              "  <div id=\"df-e5e1bc19-ff4e-414d-a6bd-9b550ecb1434\">\n",
              "    <div class=\"colab-df-container\">\n",
              "      <div>\n",
              "<style scoped>\n",
              "    .dataframe tbody tr th:only-of-type {\n",
              "        vertical-align: middle;\n",
              "    }\n",
              "\n",
              "    .dataframe tbody tr th {\n",
              "        vertical-align: top;\n",
              "    }\n",
              "\n",
              "    .dataframe thead th {\n",
              "        text-align: right;\n",
              "    }\n",
              "</style>\n",
              "<table border=\"1\" class=\"dataframe\">\n",
              "  <thead>\n",
              "    <tr style=\"text-align: right;\">\n",
              "      <th></th>\n",
              "      <th>y</th>\n",
              "    </tr>\n",
              "  </thead>\n",
              "  <tbody>\n",
              "    <tr>\n",
              "      <th>0</th>\n",
              "      <td>HOROZ</td>\n",
              "    </tr>\n",
              "    <tr>\n",
              "      <th>1</th>\n",
              "      <td>SEKER</td>\n",
              "    </tr>\n",
              "    <tr>\n",
              "      <th>2</th>\n",
              "      <td>DERMASON</td>\n",
              "    </tr>\n",
              "    <tr>\n",
              "      <th>3</th>\n",
              "      <td>DERMASON</td>\n",
              "    </tr>\n",
              "    <tr>\n",
              "      <th>4</th>\n",
              "      <td>SIRA</td>\n",
              "    </tr>\n",
              "  </tbody>\n",
              "</table>\n",
              "</div>\n",
              "      <button class=\"colab-df-convert\" onclick=\"convertToInteractive('df-e5e1bc19-ff4e-414d-a6bd-9b550ecb1434')\"\n",
              "              title=\"Convert this dataframe to an interactive table.\"\n",
              "              style=\"display:none;\">\n",
              "        \n",
              "  <svg xmlns=\"http://www.w3.org/2000/svg\" height=\"24px\"viewBox=\"0 0 24 24\"\n",
              "       width=\"24px\">\n",
              "    <path d=\"M0 0h24v24H0V0z\" fill=\"none\"/>\n",
              "    <path d=\"M18.56 5.44l.94 2.06.94-2.06 2.06-.94-2.06-.94-.94-2.06-.94 2.06-2.06.94zm-11 1L8.5 8.5l.94-2.06 2.06-.94-2.06-.94L8.5 2.5l-.94 2.06-2.06.94zm10 10l.94 2.06.94-2.06 2.06-.94-2.06-.94-.94-2.06-.94 2.06-2.06.94z\"/><path d=\"M17.41 7.96l-1.37-1.37c-.4-.4-.92-.59-1.43-.59-.52 0-1.04.2-1.43.59L10.3 9.45l-7.72 7.72c-.78.78-.78 2.05 0 2.83L4 21.41c.39.39.9.59 1.41.59.51 0 1.02-.2 1.41-.59l7.78-7.78 2.81-2.81c.8-.78.8-2.07 0-2.86zM5.41 20L4 18.59l7.72-7.72 1.47 1.35L5.41 20z\"/>\n",
              "  </svg>\n",
              "      </button>\n",
              "      \n",
              "  <style>\n",
              "    .colab-df-container {\n",
              "      display:flex;\n",
              "      flex-wrap:wrap;\n",
              "      gap: 12px;\n",
              "    }\n",
              "\n",
              "    .colab-df-convert {\n",
              "      background-color: #E8F0FE;\n",
              "      border: none;\n",
              "      border-radius: 50%;\n",
              "      cursor: pointer;\n",
              "      display: none;\n",
              "      fill: #1967D2;\n",
              "      height: 32px;\n",
              "      padding: 0 0 0 0;\n",
              "      width: 32px;\n",
              "    }\n",
              "\n",
              "    .colab-df-convert:hover {\n",
              "      background-color: #E2EBFA;\n",
              "      box-shadow: 0px 1px 2px rgba(60, 64, 67, 0.3), 0px 1px 3px 1px rgba(60, 64, 67, 0.15);\n",
              "      fill: #174EA6;\n",
              "    }\n",
              "\n",
              "    [theme=dark] .colab-df-convert {\n",
              "      background-color: #3B4455;\n",
              "      fill: #D2E3FC;\n",
              "    }\n",
              "\n",
              "    [theme=dark] .colab-df-convert:hover {\n",
              "      background-color: #434B5C;\n",
              "      box-shadow: 0px 1px 3px 1px rgba(0, 0, 0, 0.15);\n",
              "      filter: drop-shadow(0px 1px 2px rgba(0, 0, 0, 0.3));\n",
              "      fill: #FFFFFF;\n",
              "    }\n",
              "  </style>\n",
              "\n",
              "      <script>\n",
              "        const buttonEl =\n",
              "          document.querySelector('#df-e5e1bc19-ff4e-414d-a6bd-9b550ecb1434 button.colab-df-convert');\n",
              "        buttonEl.style.display =\n",
              "          google.colab.kernel.accessAllowed ? 'block' : 'none';\n",
              "\n",
              "        async function convertToInteractive(key) {\n",
              "          const element = document.querySelector('#df-e5e1bc19-ff4e-414d-a6bd-9b550ecb1434');\n",
              "          const dataTable =\n",
              "            await google.colab.kernel.invokeFunction('convertToInteractive',\n",
              "                                                     [key], {});\n",
              "          if (!dataTable) return;\n",
              "\n",
              "          const docLinkHtml = 'Like what you see? Visit the ' +\n",
              "            '<a target=\"_blank\" href=https://colab.research.google.com/notebooks/data_table.ipynb>data table notebook</a>'\n",
              "            + ' to learn more about interactive tables.';\n",
              "          element.innerHTML = '';\n",
              "          dataTable['output_type'] = 'display_data';\n",
              "          await google.colab.output.renderOutput(dataTable, element);\n",
              "          const docLink = document.createElement('div');\n",
              "          docLink.innerHTML = docLinkHtml;\n",
              "          element.appendChild(docLink);\n",
              "        }\n",
              "      </script>\n",
              "    </div>\n",
              "  </div>\n",
              "  "
            ]
          },
          "metadata": {},
          "execution_count": 52
        }
      ]
    },
    {
      "cell_type": "code",
      "source": [
        "data_balanced = pd.concat([X_resampled , y_resampled] , axis=1)\n",
        "data_balanced.head()"
      ],
      "metadata": {
        "colab": {
          "base_uri": "https://localhost:8080/",
          "height": 270
        },
        "id": "9L2_BdwrJUZi",
        "outputId": "8aba4244-258e-4e1f-a690-7757da33fab3"
      },
      "execution_count": 54,
      "outputs": [
        {
          "output_type": "execute_result",
          "data": {
            "text/plain": [
              "   ID   Area  Perimeter  MajorAxisLength  MinorAxisLength  AspectRation  \\\n",
              "0   0  58238    971.303       397.202654       186.945510      2.124697   \n",
              "1   1  44515    757.601       265.590470       213.967453      1.241266   \n",
              "2   2  31662    653.783       239.902428       168.421505      1.424417   \n",
              "3   3  38778    734.020       268.446281       184.061923      1.458456   \n",
              "4   4  42530    775.403       281.212824       193.236878      1.455275   \n",
              "\n",
              "   Eccentricity  ConvexArea  EquivDiameter    Extent  Solidity  roundness  \\\n",
              "0      0.882317       58977     272.306674  0.604756  0.987470   0.775723   \n",
              "1      0.592420       44780     238.071960  0.771745  0.994082   0.974620   \n",
              "2      0.712136       32034     200.781748  0.801407  0.988387   0.930853   \n",
              "3      0.727925       39208     222.201897  0.766137  0.989033   0.904439   \n",
              "4      0.726511       43028     232.703412  0.729816  0.988426   0.888895   \n",
              "\n",
              "   Compactness  ShapeFactor1  ShapeFactor2  ShapeFactor3  ShapeFactor4  \\\n",
              "0     0.685561      0.006820      0.000929      0.469994      0.998595   \n",
              "1     0.896387      0.005966      0.002376      0.803510      0.997370   \n",
              "2     0.836931      0.007577      0.002293      0.700453      0.997737   \n",
              "3     0.827733      0.006923      0.002005      0.685142      0.999250   \n",
              "4     0.827499      0.006612      0.001912      0.684755      0.996507   \n",
              "\n",
              "          y  \n",
              "0     HOROZ  \n",
              "1     SEKER  \n",
              "2  DERMASON  \n",
              "3  DERMASON  \n",
              "4      SIRA  "
            ],
            "text/html": [
              "\n",
              "  <div id=\"df-ffd14914-6d90-44d9-ac11-05282d1ef5d8\">\n",
              "    <div class=\"colab-df-container\">\n",
              "      <div>\n",
              "<style scoped>\n",
              "    .dataframe tbody tr th:only-of-type {\n",
              "        vertical-align: middle;\n",
              "    }\n",
              "\n",
              "    .dataframe tbody tr th {\n",
              "        vertical-align: top;\n",
              "    }\n",
              "\n",
              "    .dataframe thead th {\n",
              "        text-align: right;\n",
              "    }\n",
              "</style>\n",
              "<table border=\"1\" class=\"dataframe\">\n",
              "  <thead>\n",
              "    <tr style=\"text-align: right;\">\n",
              "      <th></th>\n",
              "      <th>ID</th>\n",
              "      <th>Area</th>\n",
              "      <th>Perimeter</th>\n",
              "      <th>MajorAxisLength</th>\n",
              "      <th>MinorAxisLength</th>\n",
              "      <th>AspectRation</th>\n",
              "      <th>Eccentricity</th>\n",
              "      <th>ConvexArea</th>\n",
              "      <th>EquivDiameter</th>\n",
              "      <th>Extent</th>\n",
              "      <th>Solidity</th>\n",
              "      <th>roundness</th>\n",
              "      <th>Compactness</th>\n",
              "      <th>ShapeFactor1</th>\n",
              "      <th>ShapeFactor2</th>\n",
              "      <th>ShapeFactor3</th>\n",
              "      <th>ShapeFactor4</th>\n",
              "      <th>y</th>\n",
              "    </tr>\n",
              "  </thead>\n",
              "  <tbody>\n",
              "    <tr>\n",
              "      <th>0</th>\n",
              "      <td>0</td>\n",
              "      <td>58238</td>\n",
              "      <td>971.303</td>\n",
              "      <td>397.202654</td>\n",
              "      <td>186.945510</td>\n",
              "      <td>2.124697</td>\n",
              "      <td>0.882317</td>\n",
              "      <td>58977</td>\n",
              "      <td>272.306674</td>\n",
              "      <td>0.604756</td>\n",
              "      <td>0.987470</td>\n",
              "      <td>0.775723</td>\n",
              "      <td>0.685561</td>\n",
              "      <td>0.006820</td>\n",
              "      <td>0.000929</td>\n",
              "      <td>0.469994</td>\n",
              "      <td>0.998595</td>\n",
              "      <td>HOROZ</td>\n",
              "    </tr>\n",
              "    <tr>\n",
              "      <th>1</th>\n",
              "      <td>1</td>\n",
              "      <td>44515</td>\n",
              "      <td>757.601</td>\n",
              "      <td>265.590470</td>\n",
              "      <td>213.967453</td>\n",
              "      <td>1.241266</td>\n",
              "      <td>0.592420</td>\n",
              "      <td>44780</td>\n",
              "      <td>238.071960</td>\n",
              "      <td>0.771745</td>\n",
              "      <td>0.994082</td>\n",
              "      <td>0.974620</td>\n",
              "      <td>0.896387</td>\n",
              "      <td>0.005966</td>\n",
              "      <td>0.002376</td>\n",
              "      <td>0.803510</td>\n",
              "      <td>0.997370</td>\n",
              "      <td>SEKER</td>\n",
              "    </tr>\n",
              "    <tr>\n",
              "      <th>2</th>\n",
              "      <td>2</td>\n",
              "      <td>31662</td>\n",
              "      <td>653.783</td>\n",
              "      <td>239.902428</td>\n",
              "      <td>168.421505</td>\n",
              "      <td>1.424417</td>\n",
              "      <td>0.712136</td>\n",
              "      <td>32034</td>\n",
              "      <td>200.781748</td>\n",
              "      <td>0.801407</td>\n",
              "      <td>0.988387</td>\n",
              "      <td>0.930853</td>\n",
              "      <td>0.836931</td>\n",
              "      <td>0.007577</td>\n",
              "      <td>0.002293</td>\n",
              "      <td>0.700453</td>\n",
              "      <td>0.997737</td>\n",
              "      <td>DERMASON</td>\n",
              "    </tr>\n",
              "    <tr>\n",
              "      <th>3</th>\n",
              "      <td>3</td>\n",
              "      <td>38778</td>\n",
              "      <td>734.020</td>\n",
              "      <td>268.446281</td>\n",
              "      <td>184.061923</td>\n",
              "      <td>1.458456</td>\n",
              "      <td>0.727925</td>\n",
              "      <td>39208</td>\n",
              "      <td>222.201897</td>\n",
              "      <td>0.766137</td>\n",
              "      <td>0.989033</td>\n",
              "      <td>0.904439</td>\n",
              "      <td>0.827733</td>\n",
              "      <td>0.006923</td>\n",
              "      <td>0.002005</td>\n",
              "      <td>0.685142</td>\n",
              "      <td>0.999250</td>\n",
              "      <td>DERMASON</td>\n",
              "    </tr>\n",
              "    <tr>\n",
              "      <th>4</th>\n",
              "      <td>4</td>\n",
              "      <td>42530</td>\n",
              "      <td>775.403</td>\n",
              "      <td>281.212824</td>\n",
              "      <td>193.236878</td>\n",
              "      <td>1.455275</td>\n",
              "      <td>0.726511</td>\n",
              "      <td>43028</td>\n",
              "      <td>232.703412</td>\n",
              "      <td>0.729816</td>\n",
              "      <td>0.988426</td>\n",
              "      <td>0.888895</td>\n",
              "      <td>0.827499</td>\n",
              "      <td>0.006612</td>\n",
              "      <td>0.001912</td>\n",
              "      <td>0.684755</td>\n",
              "      <td>0.996507</td>\n",
              "      <td>SIRA</td>\n",
              "    </tr>\n",
              "  </tbody>\n",
              "</table>\n",
              "</div>\n",
              "      <button class=\"colab-df-convert\" onclick=\"convertToInteractive('df-ffd14914-6d90-44d9-ac11-05282d1ef5d8')\"\n",
              "              title=\"Convert this dataframe to an interactive table.\"\n",
              "              style=\"display:none;\">\n",
              "        \n",
              "  <svg xmlns=\"http://www.w3.org/2000/svg\" height=\"24px\"viewBox=\"0 0 24 24\"\n",
              "       width=\"24px\">\n",
              "    <path d=\"M0 0h24v24H0V0z\" fill=\"none\"/>\n",
              "    <path d=\"M18.56 5.44l.94 2.06.94-2.06 2.06-.94-2.06-.94-.94-2.06-.94 2.06-2.06.94zm-11 1L8.5 8.5l.94-2.06 2.06-.94-2.06-.94L8.5 2.5l-.94 2.06-2.06.94zm10 10l.94 2.06.94-2.06 2.06-.94-2.06-.94-.94-2.06-.94 2.06-2.06.94z\"/><path d=\"M17.41 7.96l-1.37-1.37c-.4-.4-.92-.59-1.43-.59-.52 0-1.04.2-1.43.59L10.3 9.45l-7.72 7.72c-.78.78-.78 2.05 0 2.83L4 21.41c.39.39.9.59 1.41.59.51 0 1.02-.2 1.41-.59l7.78-7.78 2.81-2.81c.8-.78.8-2.07 0-2.86zM5.41 20L4 18.59l7.72-7.72 1.47 1.35L5.41 20z\"/>\n",
              "  </svg>\n",
              "      </button>\n",
              "      \n",
              "  <style>\n",
              "    .colab-df-container {\n",
              "      display:flex;\n",
              "      flex-wrap:wrap;\n",
              "      gap: 12px;\n",
              "    }\n",
              "\n",
              "    .colab-df-convert {\n",
              "      background-color: #E8F0FE;\n",
              "      border: none;\n",
              "      border-radius: 50%;\n",
              "      cursor: pointer;\n",
              "      display: none;\n",
              "      fill: #1967D2;\n",
              "      height: 32px;\n",
              "      padding: 0 0 0 0;\n",
              "      width: 32px;\n",
              "    }\n",
              "\n",
              "    .colab-df-convert:hover {\n",
              "      background-color: #E2EBFA;\n",
              "      box-shadow: 0px 1px 2px rgba(60, 64, 67, 0.3), 0px 1px 3px 1px rgba(60, 64, 67, 0.15);\n",
              "      fill: #174EA6;\n",
              "    }\n",
              "\n",
              "    [theme=dark] .colab-df-convert {\n",
              "      background-color: #3B4455;\n",
              "      fill: #D2E3FC;\n",
              "    }\n",
              "\n",
              "    [theme=dark] .colab-df-convert:hover {\n",
              "      background-color: #434B5C;\n",
              "      box-shadow: 0px 1px 3px 1px rgba(0, 0, 0, 0.15);\n",
              "      filter: drop-shadow(0px 1px 2px rgba(0, 0, 0, 0.3));\n",
              "      fill: #FFFFFF;\n",
              "    }\n",
              "  </style>\n",
              "\n",
              "      <script>\n",
              "        const buttonEl =\n",
              "          document.querySelector('#df-ffd14914-6d90-44d9-ac11-05282d1ef5d8 button.colab-df-convert');\n",
              "        buttonEl.style.display =\n",
              "          google.colab.kernel.accessAllowed ? 'block' : 'none';\n",
              "\n",
              "        async function convertToInteractive(key) {\n",
              "          const element = document.querySelector('#df-ffd14914-6d90-44d9-ac11-05282d1ef5d8');\n",
              "          const dataTable =\n",
              "            await google.colab.kernel.invokeFunction('convertToInteractive',\n",
              "                                                     [key], {});\n",
              "          if (!dataTable) return;\n",
              "\n",
              "          const docLinkHtml = 'Like what you see? Visit the ' +\n",
              "            '<a target=\"_blank\" href=https://colab.research.google.com/notebooks/data_table.ipynb>data table notebook</a>'\n",
              "            + ' to learn more about interactive tables.';\n",
              "          element.innerHTML = '';\n",
              "          dataTable['output_type'] = 'display_data';\n",
              "          await google.colab.output.renderOutput(dataTable, element);\n",
              "          const docLink = document.createElement('div');\n",
              "          docLink.innerHTML = docLinkHtml;\n",
              "          element.appendChild(docLink);\n",
              "        }\n",
              "      </script>\n",
              "    </div>\n",
              "  </div>\n",
              "  "
            ]
          },
          "metadata": {},
          "execution_count": 54
        }
      ]
    },
    {
      "cell_type": "markdown",
      "source": [
        "### Now My data is balanced \n",
        "\n"
      ],
      "metadata": {
        "id": "hdy9TmFhRR79"
      }
    },
    {
      "cell_type": "code",
      "source": [
        "corr_matrix = data_balanced.corr()\n",
        "\n",
        "plt.figure(figsize=(15,15))\n",
        "plt.title('Correlation Heatmap of Beans Dataset')\n",
        "a = sns.heatmap(corr_matrix, square=True, annot=True, fmt='.2f', linecolor='black')\n",
        "a.set_xticklabels(a.get_xticklabels(), rotation=30)\n",
        "a.set_yticklabels(a.get_yticklabels(), rotation=30)\n",
        "plt.show()"
      ],
      "metadata": {
        "colab": {
          "base_uri": "https://localhost:8080/",
          "height": 870
        },
        "id": "lb-rqFE9RVrg",
        "outputId": "faf28fea-f2e8-4be9-cf1c-ceb323a1b3e7"
      },
      "execution_count": 55,
      "outputs": [
        {
          "output_type": "display_data",
          "data": {
            "text/plain": [
              "<Figure size 1080x1080 with 2 Axes>"
            ],
            "image/png": "[encoded data removed]"
          },
          "metadata": {
            "needs_background": "light"
          }
        }
      ]
    },
    {
      "cell_type": "code",
      "source": [
        "sorted_mat = corr_matrix.unstack().sort_values()\n",
        "print(sorted_mat)"
      ],
      "metadata": {
        "colab": {
          "base_uri": "https://localhost:8080/"
        },
        "id": "ZIPMoI8YU76w",
        "outputId": "17e9997b-1313-4438-983e-b969a49ffcc1"
      },
      "execution_count": 58,
      "outputs": [
        {
          "output_type": "stream",
          "name": "stdout",
          "text": [
            "Compactness      AspectRation      -0.987304\n",
            "AspectRation     Compactness       -0.987304\n",
            "Eccentricity     ShapeFactor3      -0.981582\n",
            "ShapeFactor3     Eccentricity      -0.981582\n",
            "                 AspectRation      -0.978157\n",
            "                                      ...   \n",
            "MajorAxisLength  MajorAxisLength    1.000000\n",
            "Perimeter        Perimeter          1.000000\n",
            "Area             Area               1.000000\n",
            "ShapeFactor3     ShapeFactor3       1.000000\n",
            "ShapeFactor4     ShapeFactor4       1.000000\n",
            "Length: 289, dtype: float64\n"
          ]
        }
      ]
    },
    {
      "cell_type": "code",
      "source": [
        "# Create correlation matrix\n",
        "\n",
        "corr_matrix = data_balanced.corr().abs()\n",
        "\n",
        "# Select upper triangle of correlation matrix\n",
        "upper = corr_matrix.where(np.triu(np.ones(corr_matrix.shape), k=1).astype(np.bool))\n",
        "\n",
        "# Find index of feature columns with correlation greater than 0.95\n",
        "to_drop = [column for column in upper.columns if any(upper[column] > 0.95)]"
      ],
      "metadata": {
        "colab": {
          "base_uri": "https://localhost:8080/"
        },
        "id": "JXWbs-ZGUw9h",
        "outputId": "9a3f34d1-05e6-4ce6-a543-f4a23273ff53"
      },
      "execution_count": 59,
      "outputs": [
        {
          "output_type": "stream",
          "name": "stderr",
          "text": [
            "/usr/local/lib/python3.7/dist-packages/ipykernel_launcher.py:6: DeprecationWarning: `np.bool` is a deprecated alias for the builtin `bool`. To silence this warning, use `bool` by itself. Doing this will not modify any behavior and is safe. If you specifically wanted the numpy scalar type, use `np.bool_` here.\n",
            "Deprecated in NumPy 1.20; for more details and guidance: https://numpy.org/devdocs/release/1.20.0-notes.html#deprecations\n",
            "  \n"
          ]
        }
      ]
    },
    {
      "cell_type": "code",
      "source": [
        "data_balanced = data_balanced.drop(data_balanced[to_drop], axis=1)"
      ],
      "metadata": {
        "id": "YpzAiqWRVwJU"
      },
      "execution_count": 60,
      "outputs": []
    },
    {
      "cell_type": "code",
      "source": [
        "data_balanced=data_balanced.drop(\"ID\" , axis=1)"
      ],
      "metadata": {
        "id": "nYmRzrejV5-W"
      },
      "execution_count": 62,
      "outputs": []
    },
    {
      "cell_type": "code",
      "source": [
        "data_balanced.head()"
      ],
      "metadata": {
        "colab": {
          "base_uri": "https://localhost:8080/",
          "height": 270
        },
        "id": "wcu1_JmRV2u_",
        "outputId": "f02a22a0-6588-423d-9cef-846b3576be3f"
      },
      "execution_count": 63,
      "outputs": [
        {
          "output_type": "execute_result",
          "data": {
            "text/plain": [
              "    Area  AspectRation  Eccentricity    Extent  Solidity  roundness  \\\n",
              "0  58238      2.124697      0.882317  0.604756  0.987470   0.775723   \n",
              "1  44515      1.241266      0.592420  0.771745  0.994082   0.974620   \n",
              "2  31662      1.424417      0.712136  0.801407  0.988387   0.930853   \n",
              "3  38778      1.458456      0.727925  0.766137  0.989033   0.904439   \n",
              "4  42530      1.455275      0.726511  0.729816  0.988426   0.888895   \n",
              "\n",
              "   ShapeFactor2  ShapeFactor4         y  \n",
              "0      0.000929      0.998595     HOROZ  \n",
              "1      0.002376      0.997370     SEKER  \n",
              "2      0.002293      0.997737  DERMASON  \n",
              "3      0.002005      0.999250  DERMASON  \n",
              "4      0.001912      0.996507      SIRA  "
            ],
            "text/html": [
              "\n",
              "  <div id=\"df-2208238c-0360-4079-a6fe-382496822a52\">\n",
              "    <div class=\"colab-df-container\">\n",
              "      <div>\n",
              "<style scoped>\n",
              "    .dataframe tbody tr th:only-of-type {\n",
              "        vertical-align: middle;\n",
              "    }\n",
              "\n",
              "    .dataframe tbody tr th {\n",
              "        vertical-align: top;\n",
              "    }\n",
              "\n",
              "    .dataframe thead th {\n",
              "        text-align: right;\n",
              "    }\n",
              "</style>\n",
              "<table border=\"1\" class=\"dataframe\">\n",
              "  <thead>\n",
              "    <tr style=\"text-align: right;\">\n",
              "      <th></th>\n",
              "      <th>Area</th>\n",
              "      <th>AspectRation</th>\n",
              "      <th>Eccentricity</th>\n",
              "      <th>Extent</th>\n",
              "      <th>Solidity</th>\n",
              "      <th>roundness</th>\n",
              "      <th>ShapeFactor2</th>\n",
              "      <th>ShapeFactor4</th>\n",
              "      <th>y</th>\n",
              "    </tr>\n",
              "  </thead>\n",
              "  <tbody>\n",
              "    <tr>\n",
              "      <th>0</th>\n",
              "      <td>58238</td>\n",
              "      <td>2.124697</td>\n",
              "      <td>0.882317</td>\n",
              "      <td>0.604756</td>\n",
              "      <td>0.987470</td>\n",
              "      <td>0.775723</td>\n",
              "      <td>0.000929</td>\n",
              "      <td>0.998595</td>\n",
              "      <td>HOROZ</td>\n",
              "    </tr>\n",
              "    <tr>\n",
              "      <th>1</th>\n",
              "      <td>44515</td>\n",
              "      <td>1.241266</td>\n",
              "      <td>0.592420</td>\n",
              "      <td>0.771745</td>\n",
              "      <td>0.994082</td>\n",
              "      <td>0.974620</td>\n",
              "      <td>0.002376</td>\n",
              "      <td>0.997370</td>\n",
              "      <td>SEKER</td>\n",
              "    </tr>\n",
              "    <tr>\n",
              "      <th>2</th>\n",
              "      <td>31662</td>\n",
              "      <td>1.424417</td>\n",
              "      <td>0.712136</td>\n",
              "      <td>0.801407</td>\n",
              "      <td>0.988387</td>\n",
              "      <td>0.930853</td>\n",
              "      <td>0.002293</td>\n",
              "      <td>0.997737</td>\n",
              "      <td>DERMASON</td>\n",
              "    </tr>\n",
              "    <tr>\n",
              "      <th>3</th>\n",
              "      <td>38778</td>\n",
              "      <td>1.458456</td>\n",
              "      <td>0.727925</td>\n",
              "      <td>0.766137</td>\n",
              "      <td>0.989033</td>\n",
              "      <td>0.904439</td>\n",
              "      <td>0.002005</td>\n",
              "      <td>0.999250</td>\n",
              "      <td>DERMASON</td>\n",
              "    </tr>\n",
              "    <tr>\n",
              "      <th>4</th>\n",
              "      <td>42530</td>\n",
              "      <td>1.455275</td>\n",
              "      <td>0.726511</td>\n",
              "      <td>0.729816</td>\n",
              "      <td>0.988426</td>\n",
              "      <td>0.888895</td>\n",
              "      <td>0.001912</td>\n",
              "      <td>0.996507</td>\n",
              "      <td>SIRA</td>\n",
              "    </tr>\n",
              "  </tbody>\n",
              "</table>\n",
              "</div>\n",
              "      <button class=\"colab-df-convert\" onclick=\"convertToInteractive('df-2208238c-0360-4079-a6fe-382496822a52')\"\n",
              "              title=\"Convert this dataframe to an interactive table.\"\n",
              "              style=\"display:none;\">\n",
              "        \n",
              "  <svg xmlns=\"http://www.w3.org/2000/svg\" height=\"24px\"viewBox=\"0 0 24 24\"\n",
              "       width=\"24px\">\n",
              "    <path d=\"M0 0h24v24H0V0z\" fill=\"none\"/>\n",
              "    <path d=\"M18.56 5.44l.94 2.06.94-2.06 2.06-.94-2.06-.94-.94-2.06-.94 2.06-2.06.94zm-11 1L8.5 8.5l.94-2.06 2.06-.94-2.06-.94L8.5 2.5l-.94 2.06-2.06.94zm10 10l.94 2.06.94-2.06 2.06-.94-2.06-.94-.94-2.06-.94 2.06-2.06.94z\"/><path d=\"M17.41 7.96l-1.37-1.37c-.4-.4-.92-.59-1.43-.59-.52 0-1.04.2-1.43.59L10.3 9.45l-7.72 7.72c-.78.78-.78 2.05 0 2.83L4 21.41c.39.39.9.59 1.41.59.51 0 1.02-.2 1.41-.59l7.78-7.78 2.81-2.81c.8-.78.8-2.07 0-2.86zM5.41 20L4 18.59l7.72-7.72 1.47 1.35L5.41 20z\"/>\n",
              "  </svg>\n",
              "      </button>\n",
              "      \n",
              "  <style>\n",
              "    .colab-df-container {\n",
              "      display:flex;\n",
              "      flex-wrap:wrap;\n",
              "      gap: 12px;\n",
              "    }\n",
              "\n",
              "    .colab-df-convert {\n",
              "      background-color: #E8F0FE;\n",
              "      border: none;\n",
              "      border-radius: 50%;\n",
              "      cursor: pointer;\n",
              "      display: none;\n",
              "      fill: #1967D2;\n",
              "      height: 32px;\n",
              "      padding: 0 0 0 0;\n",
              "      width: 32px;\n",
              "    }\n",
              "\n",
              "    .colab-df-convert:hover {\n",
              "      background-color: #E2EBFA;\n",
              "      box-shadow: 0px 1px 2px rgba(60, 64, 67, 0.3), 0px 1px 3px 1px rgba(60, 64, 67, 0.15);\n",
              "      fill: #174EA6;\n",
              "    }\n",
              "\n",
              "    [theme=dark] .colab-df-convert {\n",
              "      background-color: #3B4455;\n",
              "      fill: #D2E3FC;\n",
              "    }\n",
              "\n",
              "    [theme=dark] .colab-df-convert:hover {\n",
              "      background-color: #434B5C;\n",
              "      box-shadow: 0px 1px 3px 1px rgba(0, 0, 0, 0.15);\n",
              "      filter: drop-shadow(0px 1px 2px rgba(0, 0, 0, 0.3));\n",
              "      fill: #FFFFFF;\n",
              "    }\n",
              "  </style>\n",
              "\n",
              "      <script>\n",
              "        const buttonEl =\n",
              "          document.querySelector('#df-2208238c-0360-4079-a6fe-382496822a52 button.colab-df-convert');\n",
              "        buttonEl.style.display =\n",
              "          google.colab.kernel.accessAllowed ? 'block' : 'none';\n",
              "\n",
              "        async function convertToInteractive(key) {\n",
              "          const element = document.querySelector('#df-2208238c-0360-4079-a6fe-382496822a52');\n",
              "          const dataTable =\n",
              "            await google.colab.kernel.invokeFunction('convertToInteractive',\n",
              "                                                     [key], {});\n",
              "          if (!dataTable) return;\n",
              "\n",
              "          const docLinkHtml = 'Like what you see? Visit the ' +\n",
              "            '<a target=\"_blank\" href=https://colab.research.google.com/notebooks/data_table.ipynb>data table notebook</a>'\n",
              "            + ' to learn more about interactive tables.';\n",
              "          element.innerHTML = '';\n",
              "          dataTable['output_type'] = 'display_data';\n",
              "          await google.colab.output.renderOutput(dataTable, element);\n",
              "          const docLink = document.createElement('div');\n",
              "          docLink.innerHTML = docLinkHtml;\n",
              "          element.appendChild(docLink);\n",
              "        }\n",
              "      </script>\n",
              "    </div>\n",
              "  </div>\n",
              "  "
            ]
          },
          "metadata": {},
          "execution_count": 63
        }
      ]
    },
    {
      "cell_type": "code",
      "source": [
        "X_data = data_balanced.drop(\"y\" , axis=1)\n",
        "y_data =pd.DataFrame(data_balanced['y'])"
      ],
      "metadata": {
        "id": "N37MCVKNV4gA"
      },
      "execution_count": 67,
      "outputs": []
    },
    {
      "cell_type": "markdown",
      "source": [
        "# Start To Normalize data "
      ],
      "metadata": {
        "id": "IZirE9-0Wge5"
      }
    },
    {
      "cell_type": "code",
      "source": [
        "from sklearn.preprocessing import MinMaxScaler\n",
        "scaler = MinMaxScaler()\n",
        "train_scaled = scaler.fit_transform(X_data)\n",
        "train_scaled = pd.DataFrame(train_scaled , columns= X_data.columns)"
      ],
      "metadata": {
        "id": "Q1AjtxOGWcm2"
      },
      "execution_count": 68,
      "outputs": []
    },
    {
      "cell_type": "code",
      "source": [
        "train_scaled.head()"
      ],
      "metadata": {
        "colab": {
          "base_uri": "https://localhost:8080/",
          "height": 270
        },
        "id": "_0aM6BnRW6zX",
        "outputId": "5da348b5-45a8-43cb-9ea5-981a7c399d5c"
      },
      "execution_count": 69,
      "outputs": [
        {
          "output_type": "execute_result",
          "data": {
            "text/plain": [
              "       Area  AspectRation  Eccentricity    Extent  Solidity  roundness  \\\n",
              "0  0.161480      0.806323      0.962493  0.159036  0.904445   0.570991   \n",
              "1  0.102884      0.158649      0.541875  0.696185  0.992108   0.967937   \n",
              "2  0.048003      0.292923      0.715573  0.791600  0.916611   0.880589   \n",
              "3  0.078387      0.317879      0.738483  0.678145  0.925168   0.827875   \n",
              "4  0.094408      0.315547      0.736430  0.561313  0.917125   0.796852   \n",
              "\n",
              "   ShapeFactor2  ShapeFactor4  \n",
              "0      0.117763      0.978144  \n",
              "1      0.584350      0.954606  \n",
              "2      0.557595      0.961666  \n",
              "3      0.464513      0.990730  \n",
              "4      0.434817      0.938025  "
            ],
            "text/html": [
              "\n",
              "  <div id=\"df-ea9b3748-3ccd-478a-9627-70395e9a1784\">\n",
              "    <div class=\"colab-df-container\">\n",
              "      <div>\n",
              "<style scoped>\n",
              "    .dataframe tbody tr th:only-of-type {\n",
              "        vertical-align: middle;\n",
              "    }\n",
              "\n",
              "    .dataframe tbody tr th {\n",
              "        vertical-align: top;\n",
              "    }\n",
              "\n",
              "    .dataframe thead th {\n",
              "        text-align: right;\n",
              "    }\n",
              "</style>\n",
              "<table border=\"1\" class=\"dataframe\">\n",
              "  <thead>\n",
              "    <tr style=\"text-align: right;\">\n",
              "      <th></th>\n",
              "      <th>Area</th>\n",
              "      <th>AspectRation</th>\n",
              "      <th>Eccentricity</th>\n",
              "      <th>Extent</th>\n",
              "      <th>Solidity</th>\n",
              "      <th>roundness</th>\n",
              "      <th>ShapeFactor2</th>\n",
              "      <th>ShapeFactor4</th>\n",
              "    </tr>\n",
              "  </thead>\n",
              "  <tbody>\n",
              "    <tr>\n",
              "      <th>0</th>\n",
              "      <td>0.161480</td>\n",
              "      <td>0.806323</td>\n",
              "      <td>0.962493</td>\n",
              "      <td>0.159036</td>\n",
              "      <td>0.904445</td>\n",
              "      <td>0.570991</td>\n",
              "      <td>0.117763</td>\n",
              "      <td>0.978144</td>\n",
              "    </tr>\n",
              "    <tr>\n",
              "      <th>1</th>\n",
              "      <td>0.102884</td>\n",
              "      <td>0.158649</td>\n",
              "      <td>0.541875</td>\n",
              "      <td>0.696185</td>\n",
              "      <td>0.992108</td>\n",
              "      <td>0.967937</td>\n",
              "      <td>0.584350</td>\n",
              "      <td>0.954606</td>\n",
              "    </tr>\n",
              "    <tr>\n",
              "      <th>2</th>\n",
              "      <td>0.048003</td>\n",
              "      <td>0.292923</td>\n",
              "      <td>0.715573</td>\n",
              "      <td>0.791600</td>\n",
              "      <td>0.916611</td>\n",
              "      <td>0.880589</td>\n",
              "      <td>0.557595</td>\n",
              "      <td>0.961666</td>\n",
              "    </tr>\n",
              "    <tr>\n",
              "      <th>3</th>\n",
              "      <td>0.078387</td>\n",
              "      <td>0.317879</td>\n",
              "      <td>0.738483</td>\n",
              "      <td>0.678145</td>\n",
              "      <td>0.925168</td>\n",
              "      <td>0.827875</td>\n",
              "      <td>0.464513</td>\n",
              "      <td>0.990730</td>\n",
              "    </tr>\n",
              "    <tr>\n",
              "      <th>4</th>\n",
              "      <td>0.094408</td>\n",
              "      <td>0.315547</td>\n",
              "      <td>0.736430</td>\n",
              "      <td>0.561313</td>\n",
              "      <td>0.917125</td>\n",
              "      <td>0.796852</td>\n",
              "      <td>0.434817</td>\n",
              "      <td>0.938025</td>\n",
              "    </tr>\n",
              "  </tbody>\n",
              "</table>\n",
              "</div>\n",
              "      <button class=\"colab-df-convert\" onclick=\"convertToInteractive('df-ea9b3748-3ccd-478a-9627-70395e9a1784')\"\n",
              "              title=\"Convert this dataframe to an interactive table.\"\n",
              "              style=\"display:none;\">\n",
              "        \n",
              "  <svg xmlns=\"http://www.w3.org/2000/svg\" height=\"24px\"viewBox=\"0 0 24 24\"\n",
              "       width=\"24px\">\n",
              "    <path d=\"M0 0h24v24H0V0z\" fill=\"none\"/>\n",
              "    <path d=\"M18.56 5.44l.94 2.06.94-2.06 2.06-.94-2.06-.94-.94-2.06-.94 2.06-2.06.94zm-11 1L8.5 8.5l.94-2.06 2.06-.94-2.06-.94L8.5 2.5l-.94 2.06-2.06.94zm10 10l.94 2.06.94-2.06 2.06-.94-2.06-.94-.94-2.06-.94 2.06-2.06.94z\"/><path d=\"M17.41 7.96l-1.37-1.37c-.4-.4-.92-.59-1.43-.59-.52 0-1.04.2-1.43.59L10.3 9.45l-7.72 7.72c-.78.78-.78 2.05 0 2.83L4 21.41c.39.39.9.59 1.41.59.51 0 1.02-.2 1.41-.59l7.78-7.78 2.81-2.81c.8-.78.8-2.07 0-2.86zM5.41 20L4 18.59l7.72-7.72 1.47 1.35L5.41 20z\"/>\n",
              "  </svg>\n",
              "      </button>\n",
              "      \n",
              "  <style>\n",
              "    .colab-df-container {\n",
              "      display:flex;\n",
              "      flex-wrap:wrap;\n",
              "      gap: 12px;\n",
              "    }\n",
              "\n",
              "    .colab-df-convert {\n",
              "      background-color: #E8F0FE;\n",
              "      border: none;\n",
              "      border-radius: 50%;\n",
              "      cursor: pointer;\n",
              "      display: none;\n",
              "      fill: #1967D2;\n",
              "      height: 32px;\n",
              "      padding: 0 0 0 0;\n",
              "      width: 32px;\n",
              "    }\n",
              "\n",
              "    .colab-df-convert:hover {\n",
              "      background-color: #E2EBFA;\n",
              "      box-shadow: 0px 1px 2px rgba(60, 64, 67, 0.3), 0px 1px 3px 1px rgba(60, 64, 67, 0.15);\n",
              "      fill: #174EA6;\n",
              "    }\n",
              "\n",
              "    [theme=dark] .colab-df-convert {\n",
              "      background-color: #3B4455;\n",
              "      fill: #D2E3FC;\n",
              "    }\n",
              "\n",
              "    [theme=dark] .colab-df-convert:hover {\n",
              "      background-color: #434B5C;\n",
              "      box-shadow: 0px 1px 3px 1px rgba(0, 0, 0, 0.15);\n",
              "      filter: drop-shadow(0px 1px 2px rgba(0, 0, 0, 0.3));\n",
              "      fill: #FFFFFF;\n",
              "    }\n",
              "  </style>\n",
              "\n",
              "      <script>\n",
              "        const buttonEl =\n",
              "          document.querySelector('#df-ea9b3748-3ccd-478a-9627-70395e9a1784 button.colab-df-convert');\n",
              "        buttonEl.style.display =\n",
              "          google.colab.kernel.accessAllowed ? 'block' : 'none';\n",
              "\n",
              "        async function convertToInteractive(key) {\n",
              "          const element = document.querySelector('#df-ea9b3748-3ccd-478a-9627-70395e9a1784');\n",
              "          const dataTable =\n",
              "            await google.colab.kernel.invokeFunction('convertToInteractive',\n",
              "                                                     [key], {});\n",
              "          if (!dataTable) return;\n",
              "\n",
              "          const docLinkHtml = 'Like what you see? Visit the ' +\n",
              "            '<a target=\"_blank\" href=https://colab.research.google.com/notebooks/data_table.ipynb>data table notebook</a>'\n",
              "            + ' to learn more about interactive tables.';\n",
              "          element.innerHTML = '';\n",
              "          dataTable['output_type'] = 'display_data';\n",
              "          await google.colab.output.renderOutput(dataTable, element);\n",
              "          const docLink = document.createElement('div');\n",
              "          docLink.innerHTML = docLinkHtml;\n",
              "          element.appendChild(docLink);\n",
              "        }\n",
              "      </script>\n",
              "    </div>\n",
              "  </div>\n",
              "  "
            ]
          },
          "metadata": {},
          "execution_count": 69
        }
      ]
    },
    {
      "cell_type": "code",
      "source": [
        "train_scaled.columns"
      ],
      "metadata": {
        "colab": {
          "base_uri": "https://localhost:8080/"
        },
        "id": "BmW98Tr7uizz",
        "outputId": "fb33d2eb-c27c-4bef-f88e-f3c6e9f1d8f6"
      },
      "execution_count": 111,
      "outputs": [
        {
          "output_type": "execute_result",
          "data": {
            "text/plain": [
              "Index(['Area', 'AspectRation', 'Eccentricity', 'Extent', 'Solidity',\n",
              "       'roundness', 'ShapeFactor2', 'ShapeFactor4'],\n",
              "      dtype='object')"
            ]
          },
          "metadata": {},
          "execution_count": 111
        }
      ]
    },
    {
      "cell_type": "code",
      "source": [
        "# !pip install fast_ml --upgrade\n",
        "\n",
        "# from fast_ml.model_development import train_valid_test_split"
      ],
      "metadata": {
        "id": "y3kUMnidYGZm"
      },
      "execution_count": null,
      "outputs": []
    },
    {
      "cell_type": "code",
      "source": [
        "X_train, X_val, y_train, y_val = train_test_split(train_scaled, y_data , test_size=0.2, random_state=2,shuffle =True)"
      ],
      "metadata": {
        "id": "T1I9v1XFXBeR"
      },
      "execution_count": 74,
      "outputs": []
    },
    {
      "cell_type": "markdown",
      "source": [
        "###  Training different models on our dataset\n",
        "\n",
        "We'll train six models:\n",
        "- Logistic regression (perceptron)\n",
        "- Decision tree\n",
        "- Support vector machine (SVM)\n",
        "- RandomForestClassifier\n",
        "- GradientBoostingClassifier\n",
        "-  AdaBoostClassifier"
      ],
      "metadata": {
        "id": "xjIpTV-GbwH3"
      }
    },
    {
      "cell_type": "code",
      "source": [
        "from scipy.sparse.construct import random\n",
        "from sklearn.tree import DecisionTreeClassifier\n",
        "\n",
        "from sklearn.ensemble import ExtraTreesClassifier  # Accuracy =  0.9307798800184587\n",
        "from sklearn.ensemble import RandomForestClassifier #Accuracy =  0.9312413474850023\n",
        "from sklearn.ensemble import HistGradientBoostingClassifier #Accuracy =  0.930318412551915\n",
        "\n",
        "from sklearn.ensemble import GradientBoostingClassifier #Accuracy =  0.9293954776188279\n",
        "from sklearn.ensemble import BaggingClassifier#Accuracy =  0.9164743885556068\n",
        "\n",
        "\n",
        "from sklearn.neighbors import KNeighborsClassifier #bad\n",
        "from sklearn.ensemble import ExtraTreesClassifier #Accuracy =  0.9307798800184587\n",
        "from sklearn.ensemble import AdaBoostClassifier\n",
        "\n",
        "from sklearn import svm\n"
      ],
      "metadata": {
        "id": "GnReei3mXzgw"
      },
      "execution_count": 75,
      "outputs": []
    },
    {
      "cell_type": "code",
      "source": [
        "ex_model =ExtraTreesClassifier(random_state=42).fit(X_train, y_train)\n",
        "print(\"Decision tree:\",ex_model.score(X_val, y_val))\n"
      ],
      "metadata": {
        "colab": {
          "base_uri": "https://localhost:8080/"
        },
        "id": "JpqbPtv4bWZV",
        "outputId": "a223e267-91a9-43bf-9c83-2c6b77740c34"
      },
      "execution_count": 76,
      "outputs": [
        {
          "output_type": "stream",
          "name": "stdout",
          "text": [
            "Decision tree: 0.9672708962739174\n"
          ]
        }
      ]
    },
    {
      "cell_type": "code",
      "source": [
        "\n",
        "from sklearn.linear_model import LogisticRegression\n",
        "\n",
        "lr_model = LogisticRegression()\n",
        "lr_model.fit(X_train, y_train)\n",
        "\n",
        "from sklearn.tree import DecisionTreeClassifier\n",
        "\n",
        "dt_model = DecisionTreeClassifier()\n",
        "dt_model.fit(X_train, y_train)\n",
        "\n",
        "from sklearn.svm import SVC\n",
        "\n",
        "svm_model = SVC()\n",
        "svm_model.fit(X_train, y_train)\n",
        "from sklearn.ensemble import RandomForestClassifier\n",
        "\n",
        "rf_model = RandomForestClassifier()\n",
        "rf_model.fit(X_train, y_train)\n",
        "from sklearn.ensemble import GradientBoostingClassifier\n",
        "\n",
        "gb_model = GradientBoostingClassifier()\n",
        "gb_model.fit(X_train, y_train)\n",
        "\n",
        "\n",
        "\n",
        "\n",
        "from sklearn.ensemble import AdaBoostClassifier\n",
        "\n",
        "ab_model = AdaBoostClassifier()\n",
        "ab_model.fit(X_train, y_train)\n",
        "\n",
        "\n",
        "from sklearn.ensemble import ExtraTreesClassifier  \n",
        "ex_modeal = ExtraTreesClassifier().fit(X_train, y_train)\n",
        "\n",
        "\n"
      ],
      "metadata": {
        "id": "u4kY_YD4bkmX"
      },
      "execution_count": 79,
      "outputs": []
    },
    {
      "cell_type": "code",
      "source": [
        "print(\"Scores of the models\")\n",
        "print(\"Logistic regression:\", lr_model.score(X_val, y_val))\n",
        "print(\"Decision tree:\", dt_model.score(X_val, y_val))\n",
        "print(\"SVM:\", svm_model.score(X_val, y_val))\n",
        "print(\"Random forest:\", rf_model.score(X_val, y_val))\n",
        "print(\"Gradient boosting:\", gb_model.score(X_val, y_val))\n",
        "print(\"AdaBoost:\", ab_model.score(X_val, y_val))\n",
        "print(\"ex_modeal:\", ex_modeal.score(X_val, y_val))\n",
        "\n"
      ],
      "metadata": {
        "colab": {
          "base_uri": "https://localhost:8080/"
        },
        "id": "vtuYw69JcRFe",
        "outputId": "568d3604-f777-43ee-e14e-d33568130eca"
      },
      "execution_count": 80,
      "outputs": [
        {
          "output_type": "stream",
          "name": "stdout",
          "text": [
            "Scores of the models\n",
            "Logistic regression: 0.9181772406847936\n",
            "Decision tree: 0.9579556898288016\n",
            "SVM: 0.9297583081570997\n",
            "Random forest: 0.9685297079556898\n",
            "Gradient boosting: 0.9511581067472307\n",
            "AdaBoost: 0.8147029204431017\n",
            "ex_modeal: 0.9682779456193353\n"
          ]
        }
      ]
    },
    {
      "cell_type": "code",
      "source": [
        "lr_predicted_labels = lr_model.predict(X_val)\n",
        "lr_predicted_labels"
      ],
      "metadata": {
        "colab": {
          "base_uri": "https://localhost:8080/"
        },
        "id": "MfmFlhUmdmf9",
        "outputId": "13d49ee9-c080-4b61-9f6a-648885f0f032"
      },
      "execution_count": 84,
      "outputs": [
        {
          "output_type": "execute_result",
          "data": {
            "text/plain": [
              "array(['SIRA', 'HOROZ', 'SEKER', ..., 'DERMASON', 'BOMBAY', 'SEKER'],\n",
              "      dtype=object)"
            ]
          },
          "metadata": {},
          "execution_count": 84
        }
      ]
    },
    {
      "cell_type": "code",
      "source": [
        "from sklearn.metrics import f1_score\n",
        "\n",
        "print(\"F1-scores of the models:\")\n",
        "\n",
        "lr_predicted_labels = lr_model.predict(X_val)\n",
        "print(\"Logistic regression:\", f1_score(  y_val  , lr_predicted_labels ,   average='micro') )\n",
        "\n",
        "dt_predicted_labels = dt_model.predict(X_val)\n",
        "print(\"Decision Tree:\", f1_score(y_val, dt_predicted_labels ,average='micro'))\n",
        "\n",
        "svm_predicted_labels = svm_model.predict(X_val)\n",
        "print(\"Support Vector Machine:\", f1_score(y_val, svm_predicted_labels ,average='micro'))\n",
        "\n",
        "rf_predicted_labels = rf_model.predict(X_val)\n",
        "print(\"Random Forest:\", f1_score(y_val, rf_predicted_labels, average='micro'))\n",
        "\n",
        "gb_predicted_labels = gb_model.predict(X_val)\n",
        "print(\"Gradient boosting:\", f1_score(y_val, gb_predicted_labels, average='micro'))\n",
        "\n",
        "ab_predicted_labels = ab_model.predict(X_val)\n",
        "print(\"AdaBoost:\", f1_score(y_val, ab_predicted_labels, average='micro'))\n",
        "\n",
        "ex_predicted_labels = ex_modeal.predict(X_val)\n",
        "print(\"ExtraTreesClassifier:\", f1_score(y_val, ex_predicted_labels, average='micro'))"
      ],
      "metadata": {
        "colab": {
          "base_uri": "https://localhost:8080/"
        },
        "id": "UqnBIzmvc2B-",
        "outputId": "d26c7f09-b167-48b3-fd55-394a00023832"
      },
      "execution_count": 86,
      "outputs": [
        {
          "output_type": "stream",
          "name": "stdout",
          "text": [
            "F1-scores of the models:\n",
            "Logistic regression: 0.9181772406847936\n",
            "Decision Tree: 0.9579556898288016\n",
            "Support Vector Machine: 0.9297583081570997\n",
            "Random Forest: 0.9685297079556898\n",
            "Gradient boosting: 0.9511581067472307\n",
            "AdaBoost: 0.8147029204431018\n",
            "ExtraTreesClassifier: 0.9682779456193353\n"
          ]
        }
      ]
    },
    {
      "cell_type": "code",
      "source": [
        ""
      ],
      "metadata": {
        "id": "-TDTn_yAdHoP"
      },
      "execution_count": null,
      "outputs": []
    },
    {
      "cell_type": "markdown",
      "source": [
        "# Try another model "
      ],
      "metadata": {
        "id": "EIeKlrl7epG8"
      }
    },
    {
      "cell_type": "code",
      "source": [
        "LGBM = LGBMClassifier(learning_rate=0.19,max_depth=6,n_estimators=120,reg_lambda=0.25,num_leaves = 46,class_weight ='balanced').fit(X_train,y_train)"
      ],
      "metadata": {
        "id": "52DMj5LCesVq"
      },
      "execution_count": 89,
      "outputs": []
    },
    {
      "cell_type": "code",
      "source": [
        ""
      ],
      "metadata": {
        "colab": {
          "base_uri": "https://localhost:8080/"
        },
        "id": "hdGzxid-fWY9",
        "outputId": "5527e85a-4084-4421-8067-eb689e669cd1"
      },
      "execution_count": 90,
      "outputs": [
        {
          "output_type": "stream",
          "name": "stdout",
          "text": [
            "LGBMClassifier: 0.9702920443101712\n"
          ]
        }
      ]
    },
    {
      "cell_type": "code",
      "source": [
        "print(\"model acc with training data \\n\")\n",
        "pred_train=LGBM.predict(X_train)\n",
        "print(f1_score(y_train,pred_train,average='macro'))\n",
        "\n",
        "print(\"\\nmodel acc with validation data \\n\")\n",
        "\n",
        "print( LGBM.score(X_val, y_val))\n",
        "\n",
        "print(\"\\n model acc with test on  validation data\\n  \")\n",
        "\n",
        "pred_val=LGBM.predict(X_val)\n",
        "print(f1_score(y_val,pred_val,average='macro'))\n",
        "# \n"
      ],
      "metadata": {
        "colab": {
          "base_uri": "https://localhost:8080/"
        },
        "id": "2xxgbX4PeyIf",
        "outputId": "c0c4016e-8811-4b64-9977-65bdf557062f"
      },
      "execution_count": 94,
      "outputs": [
        {
          "output_type": "stream",
          "name": "stdout",
          "text": [
            "model acc with training data \n",
            "\n",
            "0.9991843901347909\n",
            "\n",
            "model acc with validation data \n",
            "\n",
            "0.9702920443101712\n",
            "\n",
            " model acc with test on  validation data\n",
            "  \n",
            "0.9701493796332965\n"
          ]
        }
      ]
    },
    {
      "cell_type": "code",
      "source": [
        "dataset_path = '../input/dry-beans-classification-iti-ai-pro-intake02/'\n",
        "import os \n",
        "test_data = pd.read_csv(os.path.join(dataset_path, 'test.csv'))\n",
        "\n",
        "\n"
      ],
      "metadata": {
        "id": "zOBxOhnCuGuj"
      },
      "execution_count": null,
      "outputs": []
    },
    {
      "cell_type": "code",
      "source": [
        "test_data = pd.read_csv(\"/content/sample_data/test.csv\")\n",
        "test_data.info()\n"
      ],
      "metadata": {
        "colab": {
          "base_uri": "https://localhost:8080/"
        },
        "id": "YG7ca-5Je67Q",
        "outputId": "fe0f9ce7-2588-4d14-a5c1-dc15650b54fb"
      },
      "execution_count": 118,
      "outputs": [
        {
          "output_type": "stream",
          "name": "stdout",
          "text": [
            "<class 'pandas.core.frame.DataFrame'>\n",
            "RangeIndex: 2709 entries, 0 to 2708\n",
            "Data columns (total 17 columns):\n",
            " #   Column           Non-Null Count  Dtype  \n",
            "---  ------           --------------  -----  \n",
            " 0   ID               2709 non-null   int64  \n",
            " 1   Area             2709 non-null   int64  \n",
            " 2   Perimeter        2709 non-null   float64\n",
            " 3   MajorAxisLength  2709 non-null   float64\n",
            " 4   MinorAxisLength  2709 non-null   float64\n",
            " 5   AspectRation     2709 non-null   float64\n",
            " 6   Eccentricity     2709 non-null   float64\n",
            " 7   ConvexArea       2709 non-null   int64  \n",
            " 8   EquivDiameter    2709 non-null   float64\n",
            " 9   Extent           2709 non-null   float64\n",
            " 10  Solidity         2709 non-null   float64\n",
            " 11  roundness        2709 non-null   float64\n",
            " 12  Compactness      2709 non-null   float64\n",
            " 13  ShapeFactor1     2709 non-null   float64\n",
            " 14  ShapeFactor2     2709 non-null   float64\n",
            " 15  ShapeFactor3     2709 non-null   float64\n",
            " 16  ShapeFactor4     2709 non-null   float64\n",
            "dtypes: float64(14), int64(3)\n",
            "memory usage: 359.9 KB\n"
          ]
        }
      ]
    },
    {
      "cell_type": "code",
      "source": [
        "test_data = test_data[['Area', 'AspectRation', 'Eccentricity', 'Extent', 'Solidity',\n",
        "       'roundness', 'ShapeFactor2', 'ShapeFactor4']]\n",
        "# data_balanced = data_balanced.drop(data_balanced[to_drop], axis=1)"
      ],
      "metadata": {
        "id": "5G4jRI9ltN1D"
      },
      "execution_count": 119,
      "outputs": []
    },
    {
      "cell_type": "code",
      "source": [
        "test_data.head()"
      ],
      "metadata": {
        "colab": {
          "base_uri": "https://localhost:8080/",
          "height": 270
        },
        "id": "BcTfT2ZPvNGU",
        "outputId": "b5677eb3-a555-4901-e87e-60b7ba368318"
      },
      "execution_count": 120,
      "outputs": [
        {
          "output_type": "execute_result",
          "data": {
            "text/plain": [
              "     Area  AspectRation  Eccentricity    Extent  Solidity  roundness  \\\n",
              "0   57659      1.972059      0.861896  0.620790  0.957982   0.793735   \n",
              "1   28772      1.440960      0.719993  0.767458  0.987812   0.909913   \n",
              "2   54677      1.364204      0.680198  0.753013  0.978857   0.827860   \n",
              "3   24827      1.449322      0.723831  0.716508  0.988297   0.932871   \n",
              "4  141850      1.513136      0.750492  0.804617  0.987263   0.868240   \n",
              "\n",
              "   ShapeFactor2  ShapeFactor4  \n",
              "0      0.000989      0.962889  \n",
              "1      0.002365      0.997956  \n",
              "2      0.001856      0.995607  \n",
              "3      0.002526      0.998596  \n",
              "4      0.000981      0.991803  "
            ],
            "text/html": [
              "\n",
              "  <div id=\"df-d731b52f-98ab-4523-b909-d4f0ef9ff4d9\">\n",
              "    <div class=\"colab-df-container\">\n",
              "      <div>\n",
              "<style scoped>\n",
              "    .dataframe tbody tr th:only-of-type {\n",
              "        vertical-align: middle;\n",
              "    }\n",
              "\n",
              "    .dataframe tbody tr th {\n",
              "        vertical-align: top;\n",
              "    }\n",
              "\n",
              "    .dataframe thead th {\n",
              "        text-align: right;\n",
              "    }\n",
              "</style>\n",
              "<table border=\"1\" class=\"dataframe\">\n",
              "  <thead>\n",
              "    <tr style=\"text-align: right;\">\n",
              "      <th></th>\n",
              "      <th>Area</th>\n",
              "      <th>AspectRation</th>\n",
              "      <th>Eccentricity</th>\n",
              "      <th>Extent</th>\n",
              "      <th>Solidity</th>\n",
              "      <th>roundness</th>\n",
              "      <th>ShapeFactor2</th>\n",
              "      <th>ShapeFactor4</th>\n",
              "    </tr>\n",
              "  </thead>\n",
              "  <tbody>\n",
              "    <tr>\n",
              "      <th>0</th>\n",
              "      <td>57659</td>\n",
              "      <td>1.972059</td>\n",
              "      <td>0.861896</td>\n",
              "      <td>0.620790</td>\n",
              "      <td>0.957982</td>\n",
              "      <td>0.793735</td>\n",
              "      <td>0.000989</td>\n",
              "      <td>0.962889</td>\n",
              "    </tr>\n",
              "    <tr>\n",
              "      <th>1</th>\n",
              "      <td>28772</td>\n",
              "      <td>1.440960</td>\n",
              "      <td>0.719993</td>\n",
              "      <td>0.767458</td>\n",
              "      <td>0.987812</td>\n",
              "      <td>0.909913</td>\n",
              "      <td>0.002365</td>\n",
              "      <td>0.997956</td>\n",
              "    </tr>\n",
              "    <tr>\n",
              "      <th>2</th>\n",
              "      <td>54677</td>\n",
              "      <td>1.364204</td>\n",
              "      <td>0.680198</td>\n",
              "      <td>0.753013</td>\n",
              "      <td>0.978857</td>\n",
              "      <td>0.827860</td>\n",
              "      <td>0.001856</td>\n",
              "      <td>0.995607</td>\n",
              "    </tr>\n",
              "    <tr>\n",
              "      <th>3</th>\n",
              "      <td>24827</td>\n",
              "      <td>1.449322</td>\n",
              "      <td>0.723831</td>\n",
              "      <td>0.716508</td>\n",
              "      <td>0.988297</td>\n",
              "      <td>0.932871</td>\n",
              "      <td>0.002526</td>\n",
              "      <td>0.998596</td>\n",
              "    </tr>\n",
              "    <tr>\n",
              "      <th>4</th>\n",
              "      <td>141850</td>\n",
              "      <td>1.513136</td>\n",
              "      <td>0.750492</td>\n",
              "      <td>0.804617</td>\n",
              "      <td>0.987263</td>\n",
              "      <td>0.868240</td>\n",
              "      <td>0.000981</td>\n",
              "      <td>0.991803</td>\n",
              "    </tr>\n",
              "  </tbody>\n",
              "</table>\n",
              "</div>\n",
              "      <button class=\"colab-df-convert\" onclick=\"convertToInteractive('df-d731b52f-98ab-4523-b909-d4f0ef9ff4d9')\"\n",
              "              title=\"Convert this dataframe to an interactive table.\"\n",
              "              style=\"display:none;\">\n",
              "        \n",
              "  <svg xmlns=\"http://www.w3.org/2000/svg\" height=\"24px\"viewBox=\"0 0 24 24\"\n",
              "       width=\"24px\">\n",
              "    <path d=\"M0 0h24v24H0V0z\" fill=\"none\"/>\n",
              "    <path d=\"M18.56 5.44l.94 2.06.94-2.06 2.06-.94-2.06-.94-.94-2.06-.94 2.06-2.06.94zm-11 1L8.5 8.5l.94-2.06 2.06-.94-2.06-.94L8.5 2.5l-.94 2.06-2.06.94zm10 10l.94 2.06.94-2.06 2.06-.94-2.06-.94-.94-2.06-.94 2.06-2.06.94z\"/><path d=\"M17.41 7.96l-1.37-1.37c-.4-.4-.92-.59-1.43-.59-.52 0-1.04.2-1.43.59L10.3 9.45l-7.72 7.72c-.78.78-.78 2.05 0 2.83L4 21.41c.39.39.9.59 1.41.59.51 0 1.02-.2 1.41-.59l7.78-7.78 2.81-2.81c.8-.78.8-2.07 0-2.86zM5.41 20L4 18.59l7.72-7.72 1.47 1.35L5.41 20z\"/>\n",
              "  </svg>\n",
              "      </button>\n",
              "      \n",
              "  <style>\n",
              "    .colab-df-container {\n",
              "      display:flex;\n",
              "      flex-wrap:wrap;\n",
              "      gap: 12px;\n",
              "    }\n",
              "\n",
              "    .colab-df-convert {\n",
              "      background-color: #E8F0FE;\n",
              "      border: none;\n",
              "      border-radius: 50%;\n",
              "      cursor: pointer;\n",
              "      display: none;\n",
              "      fill: #1967D2;\n",
              "      height: 32px;\n",
              "      padding: 0 0 0 0;\n",
              "      width: 32px;\n",
              "    }\n",
              "\n",
              "    .colab-df-convert:hover {\n",
              "      background-color: #E2EBFA;\n",
              "      box-shadow: 0px 1px 2px rgba(60, 64, 67, 0.3), 0px 1px 3px 1px rgba(60, 64, 67, 0.15);\n",
              "      fill: #174EA6;\n",
              "    }\n",
              "\n",
              "    [theme=dark] .colab-df-convert {\n",
              "      background-color: #3B4455;\n",
              "      fill: #D2E3FC;\n",
              "    }\n",
              "\n",
              "    [theme=dark] .colab-df-convert:hover {\n",
              "      background-color: #434B5C;\n",
              "      box-shadow: 0px 1px 3px 1px rgba(0, 0, 0, 0.15);\n",
              "      filter: drop-shadow(0px 1px 2px rgba(0, 0, 0, 0.3));\n",
              "      fill: #FFFFFF;\n",
              "    }\n",
              "  </style>\n",
              "\n",
              "      <script>\n",
              "        const buttonEl =\n",
              "          document.querySelector('#df-d731b52f-98ab-4523-b909-d4f0ef9ff4d9 button.colab-df-convert');\n",
              "        buttonEl.style.display =\n",
              "          google.colab.kernel.accessAllowed ? 'block' : 'none';\n",
              "\n",
              "        async function convertToInteractive(key) {\n",
              "          const element = document.querySelector('#df-d731b52f-98ab-4523-b909-d4f0ef9ff4d9');\n",
              "          const dataTable =\n",
              "            await google.colab.kernel.invokeFunction('convertToInteractive',\n",
              "                                                     [key], {});\n",
              "          if (!dataTable) return;\n",
              "\n",
              "          const docLinkHtml = 'Like what you see? Visit the ' +\n",
              "            '<a target=\"_blank\" href=https://colab.research.google.com/notebooks/data_table.ipynb>data table notebook</a>'\n",
              "            + ' to learn more about interactive tables.';\n",
              "          element.innerHTML = '';\n",
              "          dataTable['output_type'] = 'display_data';\n",
              "          await google.colab.output.renderOutput(dataTable, element);\n",
              "          const docLink = document.createElement('div');\n",
              "          docLink.innerHTML = docLinkHtml;\n",
              "          element.appendChild(docLink);\n",
              "        }\n",
              "      </script>\n",
              "    </div>\n",
              "  </div>\n",
              "  "
            ]
          },
          "metadata": {},
          "execution_count": 120
        }
      ]
    },
    {
      "cell_type": "code",
      "source": [
        "scaler = MinMaxScaler()\n",
        "test_scaled = scaler.fit_transform(test_data)\n",
        "test_scaled = pd.DataFrame(test_scaled , columns= test_data.columns)\n"
      ],
      "metadata": {
        "id": "MvmvSWTitjxq"
      },
      "execution_count": 121,
      "outputs": []
    },
    {
      "cell_type": "code",
      "source": [
        ""
      ],
      "metadata": {
        "id": "BrxWAdckym5_"
      },
      "execution_count": null,
      "outputs": []
    },
    {
      "cell_type": "code",
      "source": [
        "pred_val=LGBM.predict(test_scaled)\n"
      ],
      "metadata": {
        "id": "NDBB74TAt-KZ"
      },
      "execution_count": 122,
      "outputs": []
    },
    {
      "cell_type": "code",
      "source": [
        "Alldata = pd.read_excel(\"/content/sample_data/Dry_Bean_Dataset_full.xlsx\")\n",
        "Alldata.shape"
      ],
      "metadata": {
        "colab": {
          "base_uri": "https://localhost:8080/"
        },
        "id": "q8xGZziOzCh7",
        "outputId": "359b4e58-0556-4efe-81bc-ba2ae25ca0c2"
      },
      "execution_count": 123,
      "outputs": [
        {
          "output_type": "execute_result",
          "data": {
            "text/plain": [
              "(13611, 17)"
            ]
          },
          "metadata": {},
          "execution_count": 123
        }
      ]
    },
    {
      "cell_type": "code",
      "source": [
        ""
      ],
      "metadata": {
        "id": "XAeLYB9QzTsV"
      },
      "execution_count": null,
      "outputs": []
    }
  ]
}